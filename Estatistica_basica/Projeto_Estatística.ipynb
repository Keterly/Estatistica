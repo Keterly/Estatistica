{
  "cells": [
    {
      "cell_type": "markdown",
      "metadata": {
        "id": "_N2HvMsZGXdI"
      },
      "source": [
        "# Análise de consumo de combustível\n",
        "\n",
        "Aula: https://www.youtube.com/watch?v=PPaLUYeRlJc&t=632s"
      ]
    },
    {
      "cell_type": "code",
      "execution_count": null,
      "metadata": {
        "id": "IZIihn3uGbJq"
      },
      "outputs": [],
      "source": [
        "import pandas as pd\n",
        "import numpy as np\n",
        "import matplotlib.pyplot as plt\n",
        "import seaborn as sns\n",
        "from sklearn.linear_model import LinearRegression\n",
        "from sklearn.model_selection import train_test_split"
      ]
    },
    {
      "cell_type": "markdown",
      "metadata": {
        "id": "8EmEEhlFHtxi"
      },
      "source": [
        "# Pré - análise dos dados"
      ]
    },
    {
      "cell_type": "code",
      "execution_count": null,
      "metadata": {
        "id": "U-PJThL8GiFu"
      },
      "outputs": [],
      "source": [
        "df = pd.read_csv('mpg.csv')"
      ]
    },
    {
      "cell_type": "markdown",
      "metadata": {
        "id": "d0zHMJzqG_Bu"
      },
      "source": [
        "Informações sobre o conjunto de dados:\n",
        "\n",
        "* manufacturer: nome do fabricante\n",
        "\n",
        "* model: modelo do carro\n",
        "\n",
        "* displ: capacidade/cilindrada do motor em litros\n",
        "\n",
        "* year: ano de fabricação\n",
        "\n",
        "* cyl: número de cilindros do motor\n",
        "\n",
        "* trans: tipo de transmissão\n",
        "\n",
        "* drv: tipo de tração. f = tração dianteira, r = tração traseira, 4 = 4x4\n",
        "\n",
        "* cty: milhas por galão na cidade\n",
        "\n",
        "* hwy: milhas por galão na estrada\n",
        "\n",
        "* fl: tipo de combustível\n",
        "\n",
        "* class: categoria de carro"
      ]
    },
    {
      "cell_type": "code",
      "execution_count": null,
      "metadata": {
        "colab": {
          "base_uri": "https://localhost:8080/",
          "height": 206
        },
        "id": "X6C-ANZVGogR",
        "outputId": "ec6d1a47-fe50-4b4b-adb6-2c4d8140d2ef"
      },
      "outputs": [
        {
          "data": {
            "text/html": [
              "\n",
              "  <div id=\"df-0dc837da-b7f2-4f32-b2d5-a0f516b03a8c\">\n",
              "    <div class=\"colab-df-container\">\n",
              "      <div>\n",
              "<style scoped>\n",
              "    .dataframe tbody tr th:only-of-type {\n",
              "        vertical-align: middle;\n",
              "    }\n",
              "\n",
              "    .dataframe tbody tr th {\n",
              "        vertical-align: top;\n",
              "    }\n",
              "\n",
              "    .dataframe thead th {\n",
              "        text-align: right;\n",
              "    }\n",
              "</style>\n",
              "<table border=\"1\" class=\"dataframe\">\n",
              "  <thead>\n",
              "    <tr style=\"text-align: right;\">\n",
              "      <th></th>\n",
              "      <th>manufacturer</th>\n",
              "      <th>model</th>\n",
              "      <th>displ</th>\n",
              "      <th>year</th>\n",
              "      <th>cyl</th>\n",
              "      <th>trans</th>\n",
              "      <th>drv</th>\n",
              "      <th>cty</th>\n",
              "      <th>hwy</th>\n",
              "      <th>fl</th>\n",
              "      <th>class</th>\n",
              "    </tr>\n",
              "  </thead>\n",
              "  <tbody>\n",
              "    <tr>\n",
              "      <th>0</th>\n",
              "      <td>audi</td>\n",
              "      <td>a4</td>\n",
              "      <td>1.8</td>\n",
              "      <td>1999</td>\n",
              "      <td>4</td>\n",
              "      <td>auto(l5)</td>\n",
              "      <td>f</td>\n",
              "      <td>18</td>\n",
              "      <td>29</td>\n",
              "      <td>p</td>\n",
              "      <td>compact</td>\n",
              "    </tr>\n",
              "    <tr>\n",
              "      <th>1</th>\n",
              "      <td>audi</td>\n",
              "      <td>a4</td>\n",
              "      <td>1.8</td>\n",
              "      <td>1999</td>\n",
              "      <td>4</td>\n",
              "      <td>manual(m5)</td>\n",
              "      <td>f</td>\n",
              "      <td>21</td>\n",
              "      <td>29</td>\n",
              "      <td>p</td>\n",
              "      <td>compact</td>\n",
              "    </tr>\n",
              "    <tr>\n",
              "      <th>2</th>\n",
              "      <td>audi</td>\n",
              "      <td>a4</td>\n",
              "      <td>2.0</td>\n",
              "      <td>2008</td>\n",
              "      <td>4</td>\n",
              "      <td>manual(m6)</td>\n",
              "      <td>f</td>\n",
              "      <td>20</td>\n",
              "      <td>31</td>\n",
              "      <td>p</td>\n",
              "      <td>compact</td>\n",
              "    </tr>\n",
              "    <tr>\n",
              "      <th>3</th>\n",
              "      <td>audi</td>\n",
              "      <td>a4</td>\n",
              "      <td>2.0</td>\n",
              "      <td>2008</td>\n",
              "      <td>4</td>\n",
              "      <td>auto(av)</td>\n",
              "      <td>f</td>\n",
              "      <td>21</td>\n",
              "      <td>30</td>\n",
              "      <td>p</td>\n",
              "      <td>compact</td>\n",
              "    </tr>\n",
              "    <tr>\n",
              "      <th>4</th>\n",
              "      <td>audi</td>\n",
              "      <td>a4</td>\n",
              "      <td>2.8</td>\n",
              "      <td>1999</td>\n",
              "      <td>6</td>\n",
              "      <td>auto(l5)</td>\n",
              "      <td>f</td>\n",
              "      <td>16</td>\n",
              "      <td>26</td>\n",
              "      <td>p</td>\n",
              "      <td>compact</td>\n",
              "    </tr>\n",
              "  </tbody>\n",
              "</table>\n",
              "</div>\n",
              "      <button class=\"colab-df-convert\" onclick=\"convertToInteractive('df-0dc837da-b7f2-4f32-b2d5-a0f516b03a8c')\"\n",
              "              title=\"Convert this dataframe to an interactive table.\"\n",
              "              style=\"display:none;\">\n",
              "        \n",
              "  <svg xmlns=\"http://www.w3.org/2000/svg\" height=\"24px\"viewBox=\"0 0 24 24\"\n",
              "       width=\"24px\">\n",
              "    <path d=\"M0 0h24v24H0V0z\" fill=\"none\"/>\n",
              "    <path d=\"M18.56 5.44l.94 2.06.94-2.06 2.06-.94-2.06-.94-.94-2.06-.94 2.06-2.06.94zm-11 1L8.5 8.5l.94-2.06 2.06-.94-2.06-.94L8.5 2.5l-.94 2.06-2.06.94zm10 10l.94 2.06.94-2.06 2.06-.94-2.06-.94-.94-2.06-.94 2.06-2.06.94z\"/><path d=\"M17.41 7.96l-1.37-1.37c-.4-.4-.92-.59-1.43-.59-.52 0-1.04.2-1.43.59L10.3 9.45l-7.72 7.72c-.78.78-.78 2.05 0 2.83L4 21.41c.39.39.9.59 1.41.59.51 0 1.02-.2 1.41-.59l7.78-7.78 2.81-2.81c.8-.78.8-2.07 0-2.86zM5.41 20L4 18.59l7.72-7.72 1.47 1.35L5.41 20z\"/>\n",
              "  </svg>\n",
              "      </button>\n",
              "      \n",
              "  <style>\n",
              "    .colab-df-container {\n",
              "      display:flex;\n",
              "      flex-wrap:wrap;\n",
              "      gap: 12px;\n",
              "    }\n",
              "\n",
              "    .colab-df-convert {\n",
              "      background-color: #E8F0FE;\n",
              "      border: none;\n",
              "      border-radius: 50%;\n",
              "      cursor: pointer;\n",
              "      display: none;\n",
              "      fill: #1967D2;\n",
              "      height: 32px;\n",
              "      padding: 0 0 0 0;\n",
              "      width: 32px;\n",
              "    }\n",
              "\n",
              "    .colab-df-convert:hover {\n",
              "      background-color: #E2EBFA;\n",
              "      box-shadow: 0px 1px 2px rgba(60, 64, 67, 0.3), 0px 1px 3px 1px rgba(60, 64, 67, 0.15);\n",
              "      fill: #174EA6;\n",
              "    }\n",
              "\n",
              "    [theme=dark] .colab-df-convert {\n",
              "      background-color: #3B4455;\n",
              "      fill: #D2E3FC;\n",
              "    }\n",
              "\n",
              "    [theme=dark] .colab-df-convert:hover {\n",
              "      background-color: #434B5C;\n",
              "      box-shadow: 0px 1px 3px 1px rgba(0, 0, 0, 0.15);\n",
              "      filter: drop-shadow(0px 1px 2px rgba(0, 0, 0, 0.3));\n",
              "      fill: #FFFFFF;\n",
              "    }\n",
              "  </style>\n",
              "\n",
              "      <script>\n",
              "        const buttonEl =\n",
              "          document.querySelector('#df-0dc837da-b7f2-4f32-b2d5-a0f516b03a8c button.colab-df-convert');\n",
              "        buttonEl.style.display =\n",
              "          google.colab.kernel.accessAllowed ? 'block' : 'none';\n",
              "\n",
              "        async function convertToInteractive(key) {\n",
              "          const element = document.querySelector('#df-0dc837da-b7f2-4f32-b2d5-a0f516b03a8c');\n",
              "          const dataTable =\n",
              "            await google.colab.kernel.invokeFunction('convertToInteractive',\n",
              "                                                     [key], {});\n",
              "          if (!dataTable) return;\n",
              "\n",
              "          const docLinkHtml = 'Like what you see? Visit the ' +\n",
              "            '<a target=\"_blank\" href=https://colab.research.google.com/notebooks/data_table.ipynb>data table notebook</a>'\n",
              "            + ' to learn more about interactive tables.';\n",
              "          element.innerHTML = '';\n",
              "          dataTable['output_type'] = 'display_data';\n",
              "          await google.colab.output.renderOutput(dataTable, element);\n",
              "          const docLink = document.createElement('div');\n",
              "          docLink.innerHTML = docLinkHtml;\n",
              "          element.appendChild(docLink);\n",
              "        }\n",
              "      </script>\n",
              "    </div>\n",
              "  </div>\n",
              "  "
            ],
            "text/plain": [
              "  manufacturer model  displ  year  cyl       trans drv  cty  hwy fl    class\n",
              "0         audi    a4    1.8  1999    4    auto(l5)   f   18   29  p  compact\n",
              "1         audi    a4    1.8  1999    4  manual(m5)   f   21   29  p  compact\n",
              "2         audi    a4    2.0  2008    4  manual(m6)   f   20   31  p  compact\n",
              "3         audi    a4    2.0  2008    4    auto(av)   f   21   30  p  compact\n",
              "4         audi    a4    2.8  1999    6    auto(l5)   f   16   26  p  compact"
            ]
          },
          "execution_count": 3,
          "metadata": {},
          "output_type": "execute_result"
        }
      ],
      "source": [
        "df.head()"
      ]
    },
    {
      "cell_type": "code",
      "execution_count": null,
      "metadata": {
        "colab": {
          "base_uri": "https://localhost:8080/"
        },
        "id": "D2dwTTE-HyBt",
        "outputId": "865f896e-8098-4941-b471-53ab61be4251"
      },
      "outputs": [
        {
          "data": {
            "text/plain": [
              "(234, 11)"
            ]
          },
          "execution_count": 4,
          "metadata": {},
          "output_type": "execute_result"
        }
      ],
      "source": [
        "df.shape"
      ]
    },
    {
      "cell_type": "code",
      "execution_count": null,
      "metadata": {
        "colab": {
          "base_uri": "https://localhost:8080/",
          "height": 300
        },
        "id": "ZyLkMApBGrtP",
        "outputId": "33e281d2-5a42-45f0-9209-a73a1280f587"
      },
      "outputs": [
        {
          "data": {
            "text/html": [
              "\n",
              "  <div id=\"df-1c138e38-cbdd-4058-a94e-12c9d7411255\">\n",
              "    <div class=\"colab-df-container\">\n",
              "      <div>\n",
              "<style scoped>\n",
              "    .dataframe tbody tr th:only-of-type {\n",
              "        vertical-align: middle;\n",
              "    }\n",
              "\n",
              "    .dataframe tbody tr th {\n",
              "        vertical-align: top;\n",
              "    }\n",
              "\n",
              "    .dataframe thead th {\n",
              "        text-align: right;\n",
              "    }\n",
              "</style>\n",
              "<table border=\"1\" class=\"dataframe\">\n",
              "  <thead>\n",
              "    <tr style=\"text-align: right;\">\n",
              "      <th></th>\n",
              "      <th>displ</th>\n",
              "      <th>year</th>\n",
              "      <th>cyl</th>\n",
              "      <th>cty</th>\n",
              "      <th>hwy</th>\n",
              "    </tr>\n",
              "  </thead>\n",
              "  <tbody>\n",
              "    <tr>\n",
              "      <th>count</th>\n",
              "      <td>234.000000</td>\n",
              "      <td>234.000000</td>\n",
              "      <td>234.000000</td>\n",
              "      <td>234.000000</td>\n",
              "      <td>234.000000</td>\n",
              "    </tr>\n",
              "    <tr>\n",
              "      <th>mean</th>\n",
              "      <td>3.471795</td>\n",
              "      <td>2003.500000</td>\n",
              "      <td>5.888889</td>\n",
              "      <td>16.858974</td>\n",
              "      <td>23.440171</td>\n",
              "    </tr>\n",
              "    <tr>\n",
              "      <th>std</th>\n",
              "      <td>1.291959</td>\n",
              "      <td>4.509646</td>\n",
              "      <td>1.611534</td>\n",
              "      <td>4.255946</td>\n",
              "      <td>5.954643</td>\n",
              "    </tr>\n",
              "    <tr>\n",
              "      <th>min</th>\n",
              "      <td>1.600000</td>\n",
              "      <td>1999.000000</td>\n",
              "      <td>4.000000</td>\n",
              "      <td>9.000000</td>\n",
              "      <td>12.000000</td>\n",
              "    </tr>\n",
              "    <tr>\n",
              "      <th>25%</th>\n",
              "      <td>2.400000</td>\n",
              "      <td>1999.000000</td>\n",
              "      <td>4.000000</td>\n",
              "      <td>14.000000</td>\n",
              "      <td>18.000000</td>\n",
              "    </tr>\n",
              "    <tr>\n",
              "      <th>50%</th>\n",
              "      <td>3.300000</td>\n",
              "      <td>2003.500000</td>\n",
              "      <td>6.000000</td>\n",
              "      <td>17.000000</td>\n",
              "      <td>24.000000</td>\n",
              "    </tr>\n",
              "    <tr>\n",
              "      <th>75%</th>\n",
              "      <td>4.600000</td>\n",
              "      <td>2008.000000</td>\n",
              "      <td>8.000000</td>\n",
              "      <td>19.000000</td>\n",
              "      <td>27.000000</td>\n",
              "    </tr>\n",
              "    <tr>\n",
              "      <th>max</th>\n",
              "      <td>7.000000</td>\n",
              "      <td>2008.000000</td>\n",
              "      <td>8.000000</td>\n",
              "      <td>35.000000</td>\n",
              "      <td>44.000000</td>\n",
              "    </tr>\n",
              "  </tbody>\n",
              "</table>\n",
              "</div>\n",
              "      <button class=\"colab-df-convert\" onclick=\"convertToInteractive('df-1c138e38-cbdd-4058-a94e-12c9d7411255')\"\n",
              "              title=\"Convert this dataframe to an interactive table.\"\n",
              "              style=\"display:none;\">\n",
              "        \n",
              "  <svg xmlns=\"http://www.w3.org/2000/svg\" height=\"24px\"viewBox=\"0 0 24 24\"\n",
              "       width=\"24px\">\n",
              "    <path d=\"M0 0h24v24H0V0z\" fill=\"none\"/>\n",
              "    <path d=\"M18.56 5.44l.94 2.06.94-2.06 2.06-.94-2.06-.94-.94-2.06-.94 2.06-2.06.94zm-11 1L8.5 8.5l.94-2.06 2.06-.94-2.06-.94L8.5 2.5l-.94 2.06-2.06.94zm10 10l.94 2.06.94-2.06 2.06-.94-2.06-.94-.94-2.06-.94 2.06-2.06.94z\"/><path d=\"M17.41 7.96l-1.37-1.37c-.4-.4-.92-.59-1.43-.59-.52 0-1.04.2-1.43.59L10.3 9.45l-7.72 7.72c-.78.78-.78 2.05 0 2.83L4 21.41c.39.39.9.59 1.41.59.51 0 1.02-.2 1.41-.59l7.78-7.78 2.81-2.81c.8-.78.8-2.07 0-2.86zM5.41 20L4 18.59l7.72-7.72 1.47 1.35L5.41 20z\"/>\n",
              "  </svg>\n",
              "      </button>\n",
              "      \n",
              "  <style>\n",
              "    .colab-df-container {\n",
              "      display:flex;\n",
              "      flex-wrap:wrap;\n",
              "      gap: 12px;\n",
              "    }\n",
              "\n",
              "    .colab-df-convert {\n",
              "      background-color: #E8F0FE;\n",
              "      border: none;\n",
              "      border-radius: 50%;\n",
              "      cursor: pointer;\n",
              "      display: none;\n",
              "      fill: #1967D2;\n",
              "      height: 32px;\n",
              "      padding: 0 0 0 0;\n",
              "      width: 32px;\n",
              "    }\n",
              "\n",
              "    .colab-df-convert:hover {\n",
              "      background-color: #E2EBFA;\n",
              "      box-shadow: 0px 1px 2px rgba(60, 64, 67, 0.3), 0px 1px 3px 1px rgba(60, 64, 67, 0.15);\n",
              "      fill: #174EA6;\n",
              "    }\n",
              "\n",
              "    [theme=dark] .colab-df-convert {\n",
              "      background-color: #3B4455;\n",
              "      fill: #D2E3FC;\n",
              "    }\n",
              "\n",
              "    [theme=dark] .colab-df-convert:hover {\n",
              "      background-color: #434B5C;\n",
              "      box-shadow: 0px 1px 3px 1px rgba(0, 0, 0, 0.15);\n",
              "      filter: drop-shadow(0px 1px 2px rgba(0, 0, 0, 0.3));\n",
              "      fill: #FFFFFF;\n",
              "    }\n",
              "  </style>\n",
              "\n",
              "      <script>\n",
              "        const buttonEl =\n",
              "          document.querySelector('#df-1c138e38-cbdd-4058-a94e-12c9d7411255 button.colab-df-convert');\n",
              "        buttonEl.style.display =\n",
              "          google.colab.kernel.accessAllowed ? 'block' : 'none';\n",
              "\n",
              "        async function convertToInteractive(key) {\n",
              "          const element = document.querySelector('#df-1c138e38-cbdd-4058-a94e-12c9d7411255');\n",
              "          const dataTable =\n",
              "            await google.colab.kernel.invokeFunction('convertToInteractive',\n",
              "                                                     [key], {});\n",
              "          if (!dataTable) return;\n",
              "\n",
              "          const docLinkHtml = 'Like what you see? Visit the ' +\n",
              "            '<a target=\"_blank\" href=https://colab.research.google.com/notebooks/data_table.ipynb>data table notebook</a>'\n",
              "            + ' to learn more about interactive tables.';\n",
              "          element.innerHTML = '';\n",
              "          dataTable['output_type'] = 'display_data';\n",
              "          await google.colab.output.renderOutput(dataTable, element);\n",
              "          const docLink = document.createElement('div');\n",
              "          docLink.innerHTML = docLinkHtml;\n",
              "          element.appendChild(docLink);\n",
              "        }\n",
              "      </script>\n",
              "    </div>\n",
              "  </div>\n",
              "  "
            ],
            "text/plain": [
              "            displ         year         cyl         cty         hwy\n",
              "count  234.000000   234.000000  234.000000  234.000000  234.000000\n",
              "mean     3.471795  2003.500000    5.888889   16.858974   23.440171\n",
              "std      1.291959     4.509646    1.611534    4.255946    5.954643\n",
              "min      1.600000  1999.000000    4.000000    9.000000   12.000000\n",
              "25%      2.400000  1999.000000    4.000000   14.000000   18.000000\n",
              "50%      3.300000  2003.500000    6.000000   17.000000   24.000000\n",
              "75%      4.600000  2008.000000    8.000000   19.000000   27.000000\n",
              "max      7.000000  2008.000000    8.000000   35.000000   44.000000"
            ]
          },
          "execution_count": 5,
          "metadata": {},
          "output_type": "execute_result"
        }
      ],
      "source": [
        "df.describe()"
      ]
    },
    {
      "cell_type": "code",
      "execution_count": null,
      "metadata": {
        "colab": {
          "base_uri": "https://localhost:8080/"
        },
        "id": "hv5TOZKBH0FM",
        "outputId": "75ef9890-c275-4deb-f4a1-ca51841932c1"
      },
      "outputs": [
        {
          "name": "stdout",
          "output_type": "stream",
          "text": [
            "<class 'pandas.core.frame.DataFrame'>\n",
            "RangeIndex: 234 entries, 0 to 233\n",
            "Data columns (total 11 columns):\n",
            " #   Column        Non-Null Count  Dtype  \n",
            "---  ------        --------------  -----  \n",
            " 0   manufacturer  234 non-null    object \n",
            " 1   model         234 non-null    object \n",
            " 2   displ         234 non-null    float64\n",
            " 3   year          234 non-null    int64  \n",
            " 4   cyl           234 non-null    int64  \n",
            " 5   trans         234 non-null    object \n",
            " 6   drv           234 non-null    object \n",
            " 7   cty           234 non-null    int64  \n",
            " 8   hwy           234 non-null    int64  \n",
            " 9   fl            234 non-null    object \n",
            " 10  class         234 non-null    object \n",
            "dtypes: float64(1), int64(4), object(6)\n",
            "memory usage: 20.2+ KB\n"
          ]
        }
      ],
      "source": [
        "df.info()"
      ]
    },
    {
      "cell_type": "markdown",
      "metadata": {
        "id": "l_9M6RORRIcp"
      },
      "source": [
        "# Análise do consumo dos carros"
      ]
    },
    {
      "cell_type": "code",
      "execution_count": null,
      "metadata": {
        "colab": {
          "base_uri": "https://localhost:8080/"
        },
        "id": "-uTpdYaSRCzf",
        "outputId": "d0e16eb8-0c7a-4f72-beb3-26f77d8f6496"
      },
      "outputs": [
        {
          "data": {
            "text/plain": [
              "32"
            ]
          },
          "execution_count": 7,
          "metadata": {},
          "output_type": "execute_result"
        }
      ],
      "source": [
        "#amplitude do consumo (milhas por galão)  = maior - menor valor\n",
        "#amplitude do consumo na estrada\n",
        "amplitude = df['hwy'].max() - df['hwy'].min()\n",
        "amplitude"
      ]
    },
    {
      "cell_type": "code",
      "execution_count": null,
      "metadata": {
        "colab": {
          "base_uri": "https://localhost:8080/"
        },
        "id": "v6hRFEm9RujJ",
        "outputId": "7e68e903-01d3-40be-a5c6-fcb3403ec267"
      },
      "outputs": [
        {
          "data": {
            "text/plain": [
              "manufacturer\n",
              "audi          26.444444\n",
              "chevrolet     21.894737\n",
              "dodge         17.945946\n",
              "ford          19.360000\n",
              "honda         32.555556\n",
              "hyundai       26.857143\n",
              "jeep          17.625000\n",
              "land rover    16.500000\n",
              "lincoln       17.000000\n",
              "mercury       18.000000\n",
              "nissan        24.615385\n",
              "pontiac       26.400000\n",
              "subaru        25.571429\n",
              "toyota        24.911765\n",
              "volkswagen    29.222222\n",
              "Name: hwy, dtype: float64"
            ]
          },
          "execution_count": 8,
          "metadata": {},
          "output_type": "execute_result"
        }
      ],
      "source": [
        "#consumo médio por marca\n",
        "media_c = df['hwy'].groupby(by=df.manufacturer).mean()\n",
        "media_c"
      ]
    },
    {
      "cell_type": "code",
      "execution_count": null,
      "metadata": {
        "colab": {
          "base_uri": "https://localhost:8080/"
        },
        "id": "TeuOy8QYSnnf",
        "outputId": "39e62f4b-f147-416f-e69b-f592b3cfe43a"
      },
      "outputs": [
        {
          "data": {
            "text/plain": [
              "manufacturer\n",
              "honda         32.555556\n",
              "volkswagen    29.222222\n",
              "hyundai       26.857143\n",
              "audi          26.444444\n",
              "pontiac       26.400000\n",
              "subaru        25.571429\n",
              "toyota        24.911765\n",
              "nissan        24.615385\n",
              "chevrolet     21.894737\n",
              "ford          19.360000\n",
              "mercury       18.000000\n",
              "dodge         17.945946\n",
              "jeep          17.625000\n",
              "lincoln       17.000000\n",
              "land rover    16.500000\n",
              "Name: hwy, dtype: float64"
            ]
          },
          "execution_count": 9,
          "metadata": {},
          "output_type": "execute_result"
        }
      ],
      "source": [
        "#ordenação das medias\n",
        "media_c.sort_values(ascending=False, inplace=True)\n",
        "media_c"
      ]
    },
    {
      "cell_type": "code",
      "execution_count": null,
      "metadata": {
        "id": "pUawDbUfUI74"
      },
      "outputs": [],
      "source": [
        "import seaborn as sns"
      ]
    },
    {
      "cell_type": "code",
      "execution_count": null,
      "metadata": {
        "colab": {
          "base_uri": "https://localhost:8080/",
          "height": 353
        },
        "id": "9HRH302rS9a2",
        "outputId": "ccd8c93e-5c48-4dc4-b633-2bf4a7960e9c"
      },
      "outputs": [
        {
          "data": {
            "text/plain": [
              "<matplotlib.axes._subplots.AxesSubplot at 0x7f20927da6d0>"
            ]
          },
          "execution_count": 81,
          "metadata": {},
          "output_type": "execute_result"
        },
        {
          "data": {
            "image/png": "[encoded data removed]",
            "text/plain": [
              "<Figure size 576x360 with 1 Axes>"
            ]
          },
          "metadata": {
            "needs_background": "light"
          },
          "output_type": "display_data"
        }
      ],
      "source": [
        "#visualização do consumo médio \n",
        "plt.figure(figsize=(8, 5))\n",
        "media_c.plot(kind='barh', title='Média de consumo por marcas')"
      ]
    },
    {
      "cell_type": "code",
      "execution_count": null,
      "metadata": {
        "colab": {
          "base_uri": "https://localhost:8080/"
        },
        "id": "OmJarpFsUUiX",
        "outputId": "48a01077-5122-4083-80d6-14124baafc03"
      },
      "outputs": [
        {
          "data": {
            "text/plain": [
              "manufacturer\n",
              "honda         32.0\n",
              "volkswagen    29.0\n",
              "hyundai       26.5\n",
              "toyota        26.0\n",
              "subaru        26.0\n",
              "pontiac       26.0\n",
              "nissan        26.0\n",
              "audi          26.0\n",
              "chevrolet     23.0\n",
              "jeep          18.5\n",
              "mercury       18.0\n",
              "ford          18.0\n",
              "lincoln       17.0\n",
              "dodge         17.0\n",
              "land rover    16.5\n",
              "Name: hwy, dtype: float64"
            ]
          },
          "execution_count": 12,
          "metadata": {},
          "output_type": "execute_result"
        }
      ],
      "source": [
        "#mediana do consumo por marca\n",
        "mediana_c = df['hwy'].groupby(by=df.manufacturer).median()\n",
        "mediana_c.sort_values(ascending=False, inplace=True)\n",
        "mediana_c"
      ]
    },
    {
      "cell_type": "code",
      "execution_count": null,
      "metadata": {
        "colab": {
          "base_uri": "https://localhost:8080/",
          "height": 353
        },
        "id": "iZd3NjdNU35a",
        "outputId": "b314a681-2892-4042-f529-d0268eba72f0"
      },
      "outputs": [
        {
          "data": {
            "text/plain": [
              "<matplotlib.axes._subplots.AxesSubplot at 0x7f20927fab10>"
            ]
          },
          "execution_count": 80,
          "metadata": {},
          "output_type": "execute_result"
        },
        {
          "data": {
            "image/png": "[encoded data removed]",
            "text/plain": [
              "<Figure size 576x360 with 1 Axes>"
            ]
          },
          "metadata": {
            "needs_background": "light"
          },
          "output_type": "display_data"
        }
      ],
      "source": [
        "plt.figure(figsize=(8, 5))\n",
        "mediana_c.plot(kind='barh', title='Mediana de consumo por marca', color='#002988')"
      ]
    },
    {
      "cell_type": "code",
      "execution_count": null,
      "metadata": {
        "colab": {
          "base_uri": "https://localhost:8080/",
          "height": 367
        },
        "id": "lTIMmeo4VZbt",
        "outputId": "ac2b0a1b-a16e-47e9-f499-42c0587f036a"
      },
      "outputs": [
        {
          "data": {
            "text/plain": [
              "Text(0.5, 1.0, 'Consumo de combustível')"
            ]
          },
          "execution_count": 14,
          "metadata": {},
          "output_type": "execute_result"
        },
        {
          "data": {
            "image/png": "[encoded data removed]",
            "text/plain": [
              "<Figure size 576x360 with 1 Axes>"
            ]
          },
          "metadata": {
            "needs_background": "light"
          },
          "output_type": "display_data"
        }
      ],
      "source": [
        "#consumo de combustível de todas as marcas \n",
        "#histograma mostrará a dispersão pelas faixas de consumo \n",
        "plt.figure(figsize=(8, 5))\n",
        "plt.hist(df['hwy'])\n",
        "plt.xlabel('Faixa de consumo')\n",
        "plt.ylabel('Observações')\n",
        "plt.title('Consumo de combustível')"
      ]
    },
    {
      "cell_type": "code",
      "execution_count": null,
      "metadata": {
        "colab": {
          "base_uri": "https://localhost:8080/",
          "height": 285
        },
        "id": "hYUOoU4VW00h",
        "outputId": "d2a23299-618f-45e7-c9b8-c6e5f74fef68"
      },
      "outputs": [
        {
          "data": {
            "text/plain": [
              "([], <a list of 0 Text major ticklabel objects>)"
            ]
          },
          "execution_count": 15,
          "metadata": {},
          "output_type": "execute_result"
        },
        {
          "data": {
            "image/png": "[encoded data removed]",
            "text/plain": [
              "<Figure size 432x288 with 1 Axes>"
            ]
          },
          "metadata": {
            "needs_background": "light"
          },
          "output_type": "display_data"
        }
      ],
      "source": [
        "#outliers \n",
        "plt.boxplot(df['hwy'])\n",
        "plt.title('Consumo de combustível')\n",
        "plt.ylabel('Milhas por galão')\n",
        "plt.xticks([])"
      ]
    },
    {
      "cell_type": "markdown",
      "metadata": {
        "id": "SajTUI3_Xa7h"
      },
      "source": [
        "# Detalhamento de uma única marca"
      ]
    },
    {
      "cell_type": "code",
      "execution_count": null,
      "metadata": {
        "id": "UpIbF01zXaLc"
      },
      "outputs": [],
      "source": [
        "audi = df.loc[df['manufacturer'] == 'audi']"
      ]
    },
    {
      "cell_type": "code",
      "execution_count": null,
      "metadata": {
        "colab": {
          "base_uri": "https://localhost:8080/",
          "height": 614
        },
        "id": "5XsJu8M7TcFH",
        "outputId": "c7e514dd-6403-416a-8e4d-f607e18dee83"
      },
      "outputs": [
        {
          "data": {
            "text/html": [
              "\n",
              "  <div id=\"df-3237b6ea-bbd4-46aa-b349-3d4ddea1f5a6\">\n",
              "    <div class=\"colab-df-container\">\n",
              "      <div>\n",
              "<style scoped>\n",
              "    .dataframe tbody tr th:only-of-type {\n",
              "        vertical-align: middle;\n",
              "    }\n",
              "\n",
              "    .dataframe tbody tr th {\n",
              "        vertical-align: top;\n",
              "    }\n",
              "\n",
              "    .dataframe thead th {\n",
              "        text-align: right;\n",
              "    }\n",
              "</style>\n",
              "<table border=\"1\" class=\"dataframe\">\n",
              "  <thead>\n",
              "    <tr style=\"text-align: right;\">\n",
              "      <th></th>\n",
              "      <th>manufacturer</th>\n",
              "      <th>model</th>\n",
              "      <th>displ</th>\n",
              "      <th>year</th>\n",
              "      <th>cyl</th>\n",
              "      <th>trans</th>\n",
              "      <th>drv</th>\n",
              "      <th>cty</th>\n",
              "      <th>hwy</th>\n",
              "      <th>fl</th>\n",
              "      <th>class</th>\n",
              "    </tr>\n",
              "  </thead>\n",
              "  <tbody>\n",
              "    <tr>\n",
              "      <th>0</th>\n",
              "      <td>audi</td>\n",
              "      <td>a4</td>\n",
              "      <td>1.8</td>\n",
              "      <td>1999</td>\n",
              "      <td>4</td>\n",
              "      <td>auto(l5)</td>\n",
              "      <td>f</td>\n",
              "      <td>18</td>\n",
              "      <td>29</td>\n",
              "      <td>p</td>\n",
              "      <td>compact</td>\n",
              "    </tr>\n",
              "    <tr>\n",
              "      <th>1</th>\n",
              "      <td>audi</td>\n",
              "      <td>a4</td>\n",
              "      <td>1.8</td>\n",
              "      <td>1999</td>\n",
              "      <td>4</td>\n",
              "      <td>manual(m5)</td>\n",
              "      <td>f</td>\n",
              "      <td>21</td>\n",
              "      <td>29</td>\n",
              "      <td>p</td>\n",
              "      <td>compact</td>\n",
              "    </tr>\n",
              "    <tr>\n",
              "      <th>2</th>\n",
              "      <td>audi</td>\n",
              "      <td>a4</td>\n",
              "      <td>2.0</td>\n",
              "      <td>2008</td>\n",
              "      <td>4</td>\n",
              "      <td>manual(m6)</td>\n",
              "      <td>f</td>\n",
              "      <td>20</td>\n",
              "      <td>31</td>\n",
              "      <td>p</td>\n",
              "      <td>compact</td>\n",
              "    </tr>\n",
              "    <tr>\n",
              "      <th>3</th>\n",
              "      <td>audi</td>\n",
              "      <td>a4</td>\n",
              "      <td>2.0</td>\n",
              "      <td>2008</td>\n",
              "      <td>4</td>\n",
              "      <td>auto(av)</td>\n",
              "      <td>f</td>\n",
              "      <td>21</td>\n",
              "      <td>30</td>\n",
              "      <td>p</td>\n",
              "      <td>compact</td>\n",
              "    </tr>\n",
              "    <tr>\n",
              "      <th>4</th>\n",
              "      <td>audi</td>\n",
              "      <td>a4</td>\n",
              "      <td>2.8</td>\n",
              "      <td>1999</td>\n",
              "      <td>6</td>\n",
              "      <td>auto(l5)</td>\n",
              "      <td>f</td>\n",
              "      <td>16</td>\n",
              "      <td>26</td>\n",
              "      <td>p</td>\n",
              "      <td>compact</td>\n",
              "    </tr>\n",
              "    <tr>\n",
              "      <th>5</th>\n",
              "      <td>audi</td>\n",
              "      <td>a4</td>\n",
              "      <td>2.8</td>\n",
              "      <td>1999</td>\n",
              "      <td>6</td>\n",
              "      <td>manual(m5)</td>\n",
              "      <td>f</td>\n",
              "      <td>18</td>\n",
              "      <td>26</td>\n",
              "      <td>p</td>\n",
              "      <td>compact</td>\n",
              "    </tr>\n",
              "    <tr>\n",
              "      <th>6</th>\n",
              "      <td>audi</td>\n",
              "      <td>a4</td>\n",
              "      <td>3.1</td>\n",
              "      <td>2008</td>\n",
              "      <td>6</td>\n",
              "      <td>auto(av)</td>\n",
              "      <td>f</td>\n",
              "      <td>18</td>\n",
              "      <td>27</td>\n",
              "      <td>p</td>\n",
              "      <td>compact</td>\n",
              "    </tr>\n",
              "    <tr>\n",
              "      <th>7</th>\n",
              "      <td>audi</td>\n",
              "      <td>a4 quattro</td>\n",
              "      <td>1.8</td>\n",
              "      <td>1999</td>\n",
              "      <td>4</td>\n",
              "      <td>manual(m5)</td>\n",
              "      <td>4</td>\n",
              "      <td>18</td>\n",
              "      <td>26</td>\n",
              "      <td>p</td>\n",
              "      <td>compact</td>\n",
              "    </tr>\n",
              "    <tr>\n",
              "      <th>8</th>\n",
              "      <td>audi</td>\n",
              "      <td>a4 quattro</td>\n",
              "      <td>1.8</td>\n",
              "      <td>1999</td>\n",
              "      <td>4</td>\n",
              "      <td>auto(l5)</td>\n",
              "      <td>4</td>\n",
              "      <td>16</td>\n",
              "      <td>25</td>\n",
              "      <td>p</td>\n",
              "      <td>compact</td>\n",
              "    </tr>\n",
              "    <tr>\n",
              "      <th>9</th>\n",
              "      <td>audi</td>\n",
              "      <td>a4 quattro</td>\n",
              "      <td>2.0</td>\n",
              "      <td>2008</td>\n",
              "      <td>4</td>\n",
              "      <td>manual(m6)</td>\n",
              "      <td>4</td>\n",
              "      <td>20</td>\n",
              "      <td>28</td>\n",
              "      <td>p</td>\n",
              "      <td>compact</td>\n",
              "    </tr>\n",
              "    <tr>\n",
              "      <th>10</th>\n",
              "      <td>audi</td>\n",
              "      <td>a4 quattro</td>\n",
              "      <td>2.0</td>\n",
              "      <td>2008</td>\n",
              "      <td>4</td>\n",
              "      <td>auto(s6)</td>\n",
              "      <td>4</td>\n",
              "      <td>19</td>\n",
              "      <td>27</td>\n",
              "      <td>p</td>\n",
              "      <td>compact</td>\n",
              "    </tr>\n",
              "    <tr>\n",
              "      <th>11</th>\n",
              "      <td>audi</td>\n",
              "      <td>a4 quattro</td>\n",
              "      <td>2.8</td>\n",
              "      <td>1999</td>\n",
              "      <td>6</td>\n",
              "      <td>auto(l5)</td>\n",
              "      <td>4</td>\n",
              "      <td>15</td>\n",
              "      <td>25</td>\n",
              "      <td>p</td>\n",
              "      <td>compact</td>\n",
              "    </tr>\n",
              "    <tr>\n",
              "      <th>12</th>\n",
              "      <td>audi</td>\n",
              "      <td>a4 quattro</td>\n",
              "      <td>2.8</td>\n",
              "      <td>1999</td>\n",
              "      <td>6</td>\n",
              "      <td>manual(m5)</td>\n",
              "      <td>4</td>\n",
              "      <td>17</td>\n",
              "      <td>25</td>\n",
              "      <td>p</td>\n",
              "      <td>compact</td>\n",
              "    </tr>\n",
              "    <tr>\n",
              "      <th>13</th>\n",
              "      <td>audi</td>\n",
              "      <td>a4 quattro</td>\n",
              "      <td>3.1</td>\n",
              "      <td>2008</td>\n",
              "      <td>6</td>\n",
              "      <td>auto(s6)</td>\n",
              "      <td>4</td>\n",
              "      <td>17</td>\n",
              "      <td>25</td>\n",
              "      <td>p</td>\n",
              "      <td>compact</td>\n",
              "    </tr>\n",
              "    <tr>\n",
              "      <th>14</th>\n",
              "      <td>audi</td>\n",
              "      <td>a4 quattro</td>\n",
              "      <td>3.1</td>\n",
              "      <td>2008</td>\n",
              "      <td>6</td>\n",
              "      <td>manual(m6)</td>\n",
              "      <td>4</td>\n",
              "      <td>15</td>\n",
              "      <td>25</td>\n",
              "      <td>p</td>\n",
              "      <td>compact</td>\n",
              "    </tr>\n",
              "    <tr>\n",
              "      <th>15</th>\n",
              "      <td>audi</td>\n",
              "      <td>a6 quattro</td>\n",
              "      <td>2.8</td>\n",
              "      <td>1999</td>\n",
              "      <td>6</td>\n",
              "      <td>auto(l5)</td>\n",
              "      <td>4</td>\n",
              "      <td>15</td>\n",
              "      <td>24</td>\n",
              "      <td>p</td>\n",
              "      <td>midsize</td>\n",
              "    </tr>\n",
              "    <tr>\n",
              "      <th>16</th>\n",
              "      <td>audi</td>\n",
              "      <td>a6 quattro</td>\n",
              "      <td>3.1</td>\n",
              "      <td>2008</td>\n",
              "      <td>6</td>\n",
              "      <td>auto(s6)</td>\n",
              "      <td>4</td>\n",
              "      <td>17</td>\n",
              "      <td>25</td>\n",
              "      <td>p</td>\n",
              "      <td>midsize</td>\n",
              "    </tr>\n",
              "    <tr>\n",
              "      <th>17</th>\n",
              "      <td>audi</td>\n",
              "      <td>a6 quattro</td>\n",
              "      <td>4.2</td>\n",
              "      <td>2008</td>\n",
              "      <td>8</td>\n",
              "      <td>auto(s6)</td>\n",
              "      <td>4</td>\n",
              "      <td>16</td>\n",
              "      <td>23</td>\n",
              "      <td>p</td>\n",
              "      <td>midsize</td>\n",
              "    </tr>\n",
              "  </tbody>\n",
              "</table>\n",
              "</div>\n",
              "      <button class=\"colab-df-convert\" onclick=\"convertToInteractive('df-3237b6ea-bbd4-46aa-b349-3d4ddea1f5a6')\"\n",
              "              title=\"Convert this dataframe to an interactive table.\"\n",
              "              style=\"display:none;\">\n",
              "        \n",
              "  <svg xmlns=\"http://www.w3.org/2000/svg\" height=\"24px\"viewBox=\"0 0 24 24\"\n",
              "       width=\"24px\">\n",
              "    <path d=\"M0 0h24v24H0V0z\" fill=\"none\"/>\n",
              "    <path d=\"M18.56 5.44l.94 2.06.94-2.06 2.06-.94-2.06-.94-.94-2.06-.94 2.06-2.06.94zm-11 1L8.5 8.5l.94-2.06 2.06-.94-2.06-.94L8.5 2.5l-.94 2.06-2.06.94zm10 10l.94 2.06.94-2.06 2.06-.94-2.06-.94-.94-2.06-.94 2.06-2.06.94z\"/><path d=\"M17.41 7.96l-1.37-1.37c-.4-.4-.92-.59-1.43-.59-.52 0-1.04.2-1.43.59L10.3 9.45l-7.72 7.72c-.78.78-.78 2.05 0 2.83L4 21.41c.39.39.9.59 1.41.59.51 0 1.02-.2 1.41-.59l7.78-7.78 2.81-2.81c.8-.78.8-2.07 0-2.86zM5.41 20L4 18.59l7.72-7.72 1.47 1.35L5.41 20z\"/>\n",
              "  </svg>\n",
              "      </button>\n",
              "      \n",
              "  <style>\n",
              "    .colab-df-container {\n",
              "      display:flex;\n",
              "      flex-wrap:wrap;\n",
              "      gap: 12px;\n",
              "    }\n",
              "\n",
              "    .colab-df-convert {\n",
              "      background-color: #E8F0FE;\n",
              "      border: none;\n",
              "      border-radius: 50%;\n",
              "      cursor: pointer;\n",
              "      display: none;\n",
              "      fill: #1967D2;\n",
              "      height: 32px;\n",
              "      padding: 0 0 0 0;\n",
              "      width: 32px;\n",
              "    }\n",
              "\n",
              "    .colab-df-convert:hover {\n",
              "      background-color: #E2EBFA;\n",
              "      box-shadow: 0px 1px 2px rgba(60, 64, 67, 0.3), 0px 1px 3px 1px rgba(60, 64, 67, 0.15);\n",
              "      fill: #174EA6;\n",
              "    }\n",
              "\n",
              "    [theme=dark] .colab-df-convert {\n",
              "      background-color: #3B4455;\n",
              "      fill: #D2E3FC;\n",
              "    }\n",
              "\n",
              "    [theme=dark] .colab-df-convert:hover {\n",
              "      background-color: #434B5C;\n",
              "      box-shadow: 0px 1px 3px 1px rgba(0, 0, 0, 0.15);\n",
              "      filter: drop-shadow(0px 1px 2px rgba(0, 0, 0, 0.3));\n",
              "      fill: #FFFFFF;\n",
              "    }\n",
              "  </style>\n",
              "\n",
              "      <script>\n",
              "        const buttonEl =\n",
              "          document.querySelector('#df-3237b6ea-bbd4-46aa-b349-3d4ddea1f5a6 button.colab-df-convert');\n",
              "        buttonEl.style.display =\n",
              "          google.colab.kernel.accessAllowed ? 'block' : 'none';\n",
              "\n",
              "        async function convertToInteractive(key) {\n",
              "          const element = document.querySelector('#df-3237b6ea-bbd4-46aa-b349-3d4ddea1f5a6');\n",
              "          const dataTable =\n",
              "            await google.colab.kernel.invokeFunction('convertToInteractive',\n",
              "                                                     [key], {});\n",
              "          if (!dataTable) return;\n",
              "\n",
              "          const docLinkHtml = 'Like what you see? Visit the ' +\n",
              "            '<a target=\"_blank\" href=https://colab.research.google.com/notebooks/data_table.ipynb>data table notebook</a>'\n",
              "            + ' to learn more about interactive tables.';\n",
              "          element.innerHTML = '';\n",
              "          dataTable['output_type'] = 'display_data';\n",
              "          await google.colab.output.renderOutput(dataTable, element);\n",
              "          const docLink = document.createElement('div');\n",
              "          docLink.innerHTML = docLinkHtml;\n",
              "          element.appendChild(docLink);\n",
              "        }\n",
              "      </script>\n",
              "    </div>\n",
              "  </div>\n",
              "  "
            ],
            "text/plain": [
              "   manufacturer       model  displ  year  cyl  ... drv cty  hwy  fl    class\n",
              "0          audi          a4    1.8  1999    4  ...   f  18   29   p  compact\n",
              "1          audi          a4    1.8  1999    4  ...   f  21   29   p  compact\n",
              "2          audi          a4    2.0  2008    4  ...   f  20   31   p  compact\n",
              "3          audi          a4    2.0  2008    4  ...   f  21   30   p  compact\n",
              "4          audi          a4    2.8  1999    6  ...   f  16   26   p  compact\n",
              "5          audi          a4    2.8  1999    6  ...   f  18   26   p  compact\n",
              "6          audi          a4    3.1  2008    6  ...   f  18   27   p  compact\n",
              "7          audi  a4 quattro    1.8  1999    4  ...   4  18   26   p  compact\n",
              "8          audi  a4 quattro    1.8  1999    4  ...   4  16   25   p  compact\n",
              "9          audi  a4 quattro    2.0  2008    4  ...   4  20   28   p  compact\n",
              "10         audi  a4 quattro    2.0  2008    4  ...   4  19   27   p  compact\n",
              "11         audi  a4 quattro    2.8  1999    6  ...   4  15   25   p  compact\n",
              "12         audi  a4 quattro    2.8  1999    6  ...   4  17   25   p  compact\n",
              "13         audi  a4 quattro    3.1  2008    6  ...   4  17   25   p  compact\n",
              "14         audi  a4 quattro    3.1  2008    6  ...   4  15   25   p  compact\n",
              "15         audi  a6 quattro    2.8  1999    6  ...   4  15   24   p  midsize\n",
              "16         audi  a6 quattro    3.1  2008    6  ...   4  17   25   p  midsize\n",
              "17         audi  a6 quattro    4.2  2008    8  ...   4  16   23   p  midsize\n",
              "\n",
              "[18 rows x 11 columns]"
            ]
          },
          "execution_count": 17,
          "metadata": {},
          "output_type": "execute_result"
        }
      ],
      "source": [
        "audi"
      ]
    },
    {
      "cell_type": "code",
      "execution_count": null,
      "metadata": {
        "colab": {
          "base_uri": "https://localhost:8080/"
        },
        "id": "dBWF6K_GXsab",
        "outputId": "962cde96-2689-4f2e-beda-20f4a0edd5a7"
      },
      "outputs": [
        {
          "data": {
            "text/plain": [
              "(18, 11)"
            ]
          },
          "execution_count": 18,
          "metadata": {},
          "output_type": "execute_result"
        }
      ],
      "source": [
        "audi.shape"
      ]
    },
    {
      "cell_type": "code",
      "execution_count": null,
      "metadata": {
        "colab": {
          "base_uri": "https://localhost:8080/",
          "height": 300
        },
        "id": "K2I7m69kXzIk",
        "outputId": "8598638f-d934-442f-87af-8305328eaf0d"
      },
      "outputs": [
        {
          "data": {
            "text/html": [
              "\n",
              "  <div id=\"df-e8fc0604-e815-48fc-8a18-6b8032ddabeb\">\n",
              "    <div class=\"colab-df-container\">\n",
              "      <div>\n",
              "<style scoped>\n",
              "    .dataframe tbody tr th:only-of-type {\n",
              "        vertical-align: middle;\n",
              "    }\n",
              "\n",
              "    .dataframe tbody tr th {\n",
              "        vertical-align: top;\n",
              "    }\n",
              "\n",
              "    .dataframe thead th {\n",
              "        text-align: right;\n",
              "    }\n",
              "</style>\n",
              "<table border=\"1\" class=\"dataframe\">\n",
              "  <thead>\n",
              "    <tr style=\"text-align: right;\">\n",
              "      <th></th>\n",
              "      <th>displ</th>\n",
              "      <th>year</th>\n",
              "      <th>cyl</th>\n",
              "      <th>cty</th>\n",
              "      <th>hwy</th>\n",
              "    </tr>\n",
              "  </thead>\n",
              "  <tbody>\n",
              "    <tr>\n",
              "      <th>count</th>\n",
              "      <td>18.000000</td>\n",
              "      <td>18.000000</td>\n",
              "      <td>18.000000</td>\n",
              "      <td>18.000000</td>\n",
              "      <td>18.000000</td>\n",
              "    </tr>\n",
              "    <tr>\n",
              "      <th>mean</th>\n",
              "      <td>2.544444</td>\n",
              "      <td>2003.500000</td>\n",
              "      <td>5.222222</td>\n",
              "      <td>17.611111</td>\n",
              "      <td>26.444444</td>\n",
              "    </tr>\n",
              "    <tr>\n",
              "      <th>std</th>\n",
              "      <td>0.673203</td>\n",
              "      <td>4.630462</td>\n",
              "      <td>1.215370</td>\n",
              "      <td>1.974511</td>\n",
              "      <td>2.175322</td>\n",
              "    </tr>\n",
              "    <tr>\n",
              "      <th>min</th>\n",
              "      <td>1.800000</td>\n",
              "      <td>1999.000000</td>\n",
              "      <td>4.000000</td>\n",
              "      <td>15.000000</td>\n",
              "      <td>23.000000</td>\n",
              "    </tr>\n",
              "    <tr>\n",
              "      <th>25%</th>\n",
              "      <td>2.000000</td>\n",
              "      <td>1999.000000</td>\n",
              "      <td>4.000000</td>\n",
              "      <td>16.000000</td>\n",
              "      <td>25.000000</td>\n",
              "    </tr>\n",
              "    <tr>\n",
              "      <th>50%</th>\n",
              "      <td>2.800000</td>\n",
              "      <td>2003.500000</td>\n",
              "      <td>6.000000</td>\n",
              "      <td>17.500000</td>\n",
              "      <td>26.000000</td>\n",
              "    </tr>\n",
              "    <tr>\n",
              "      <th>75%</th>\n",
              "      <td>3.025000</td>\n",
              "      <td>2008.000000</td>\n",
              "      <td>6.000000</td>\n",
              "      <td>18.750000</td>\n",
              "      <td>27.750000</td>\n",
              "    </tr>\n",
              "    <tr>\n",
              "      <th>max</th>\n",
              "      <td>4.200000</td>\n",
              "      <td>2008.000000</td>\n",
              "      <td>8.000000</td>\n",
              "      <td>21.000000</td>\n",
              "      <td>31.000000</td>\n",
              "    </tr>\n",
              "  </tbody>\n",
              "</table>\n",
              "</div>\n",
              "      <button class=\"colab-df-convert\" onclick=\"convertToInteractive('df-e8fc0604-e815-48fc-8a18-6b8032ddabeb')\"\n",
              "              title=\"Convert this dataframe to an interactive table.\"\n",
              "              style=\"display:none;\">\n",
              "        \n",
              "  <svg xmlns=\"http://www.w3.org/2000/svg\" height=\"24px\"viewBox=\"0 0 24 24\"\n",
              "       width=\"24px\">\n",
              "    <path d=\"M0 0h24v24H0V0z\" fill=\"none\"/>\n",
              "    <path d=\"M18.56 5.44l.94 2.06.94-2.06 2.06-.94-2.06-.94-.94-2.06-.94 2.06-2.06.94zm-11 1L8.5 8.5l.94-2.06 2.06-.94-2.06-.94L8.5 2.5l-.94 2.06-2.06.94zm10 10l.94 2.06.94-2.06 2.06-.94-2.06-.94-.94-2.06-.94 2.06-2.06.94z\"/><path d=\"M17.41 7.96l-1.37-1.37c-.4-.4-.92-.59-1.43-.59-.52 0-1.04.2-1.43.59L10.3 9.45l-7.72 7.72c-.78.78-.78 2.05 0 2.83L4 21.41c.39.39.9.59 1.41.59.51 0 1.02-.2 1.41-.59l7.78-7.78 2.81-2.81c.8-.78.8-2.07 0-2.86zM5.41 20L4 18.59l7.72-7.72 1.47 1.35L5.41 20z\"/>\n",
              "  </svg>\n",
              "      </button>\n",
              "      \n",
              "  <style>\n",
              "    .colab-df-container {\n",
              "      display:flex;\n",
              "      flex-wrap:wrap;\n",
              "      gap: 12px;\n",
              "    }\n",
              "\n",
              "    .colab-df-convert {\n",
              "      background-color: #E8F0FE;\n",
              "      border: none;\n",
              "      border-radius: 50%;\n",
              "      cursor: pointer;\n",
              "      display: none;\n",
              "      fill: #1967D2;\n",
              "      height: 32px;\n",
              "      padding: 0 0 0 0;\n",
              "      width: 32px;\n",
              "    }\n",
              "\n",
              "    .colab-df-convert:hover {\n",
              "      background-color: #E2EBFA;\n",
              "      box-shadow: 0px 1px 2px rgba(60, 64, 67, 0.3), 0px 1px 3px 1px rgba(60, 64, 67, 0.15);\n",
              "      fill: #174EA6;\n",
              "    }\n",
              "\n",
              "    [theme=dark] .colab-df-convert {\n",
              "      background-color: #3B4455;\n",
              "      fill: #D2E3FC;\n",
              "    }\n",
              "\n",
              "    [theme=dark] .colab-df-convert:hover {\n",
              "      background-color: #434B5C;\n",
              "      box-shadow: 0px 1px 3px 1px rgba(0, 0, 0, 0.15);\n",
              "      filter: drop-shadow(0px 1px 2px rgba(0, 0, 0, 0.3));\n",
              "      fill: #FFFFFF;\n",
              "    }\n",
              "  </style>\n",
              "\n",
              "      <script>\n",
              "        const buttonEl =\n",
              "          document.querySelector('#df-e8fc0604-e815-48fc-8a18-6b8032ddabeb button.colab-df-convert');\n",
              "        buttonEl.style.display =\n",
              "          google.colab.kernel.accessAllowed ? 'block' : 'none';\n",
              "\n",
              "        async function convertToInteractive(key) {\n",
              "          const element = document.querySelector('#df-e8fc0604-e815-48fc-8a18-6b8032ddabeb');\n",
              "          const dataTable =\n",
              "            await google.colab.kernel.invokeFunction('convertToInteractive',\n",
              "                                                     [key], {});\n",
              "          if (!dataTable) return;\n",
              "\n",
              "          const docLinkHtml = 'Like what you see? Visit the ' +\n",
              "            '<a target=\"_blank\" href=https://colab.research.google.com/notebooks/data_table.ipynb>data table notebook</a>'\n",
              "            + ' to learn more about interactive tables.';\n",
              "          element.innerHTML = '';\n",
              "          dataTable['output_type'] = 'display_data';\n",
              "          await google.colab.output.renderOutput(dataTable, element);\n",
              "          const docLink = document.createElement('div');\n",
              "          docLink.innerHTML = docLinkHtml;\n",
              "          element.appendChild(docLink);\n",
              "        }\n",
              "      </script>\n",
              "    </div>\n",
              "  </div>\n",
              "  "
            ],
            "text/plain": [
              "           displ         year        cyl        cty        hwy\n",
              "count  18.000000    18.000000  18.000000  18.000000  18.000000\n",
              "mean    2.544444  2003.500000   5.222222  17.611111  26.444444\n",
              "std     0.673203     4.630462   1.215370   1.974511   2.175322\n",
              "min     1.800000  1999.000000   4.000000  15.000000  23.000000\n",
              "25%     2.000000  1999.000000   4.000000  16.000000  25.000000\n",
              "50%     2.800000  2003.500000   6.000000  17.500000  26.000000\n",
              "75%     3.025000  2008.000000   6.000000  18.750000  27.750000\n",
              "max     4.200000  2008.000000   8.000000  21.000000  31.000000"
            ]
          },
          "execution_count": 19,
          "metadata": {},
          "output_type": "execute_result"
        }
      ],
      "source": [
        "audi.describe()"
      ]
    },
    {
      "cell_type": "code",
      "execution_count": null,
      "metadata": {
        "colab": {
          "base_uri": "https://localhost:8080/"
        },
        "id": "YMwGL3RPX3LN",
        "outputId": "fef0d558-dda2-44c1-c787-da76b6a79ddb"
      },
      "outputs": [
        {
          "data": {
            "text/plain": [
              "26.444444444444443"
            ]
          },
          "execution_count": 20,
          "metadata": {},
          "output_type": "execute_result"
        }
      ],
      "source": [
        "audi['hwy'].mean()"
      ]
    },
    {
      "cell_type": "code",
      "execution_count": null,
      "metadata": {
        "colab": {
          "base_uri": "https://localhost:8080/"
        },
        "id": "caPdED5RX9l6",
        "outputId": "dae4cdac-72f8-4631-d6fc-35a567442508"
      },
      "outputs": [
        {
          "data": {
            "text/plain": [
              "26.0"
            ]
          },
          "execution_count": 21,
          "metadata": {},
          "output_type": "execute_result"
        }
      ],
      "source": [
        "audi['hwy'].median()"
      ]
    },
    {
      "cell_type": "code",
      "execution_count": null,
      "metadata": {
        "colab": {
          "base_uri": "https://localhost:8080/"
        },
        "id": "w_-GTUTeYAIR",
        "outputId": "f5c9eec4-44d6-413a-b943-aa426262f4c0"
      },
      "outputs": [
        {
          "data": {
            "text/plain": [
              "2.175322078173908"
            ]
          },
          "execution_count": 22,
          "metadata": {},
          "output_type": "execute_result"
        }
      ],
      "source": [
        "#desvio padrão do consumo\n",
        "audi['hwy'].std()"
      ]
    },
    {
      "cell_type": "code",
      "execution_count": null,
      "metadata": {
        "colab": {
          "base_uri": "https://localhost:8080/",
          "height": 285
        },
        "id": "jjh2gM5DYGFS",
        "outputId": "f5e6a2a6-0ebf-4df5-db45-4fe771236267"
      },
      "outputs": [
        {
          "data": {
            "text/plain": [
              "([], <a list of 0 Text major ticklabel objects>)"
            ]
          },
          "execution_count": 23,
          "metadata": {},
          "output_type": "execute_result"
        },
        {
          "data": {
            "image/png": "[encoded data removed]",
            "text/plain": [
              "<Figure size 432x288 with 1 Axes>"
            ]
          },
          "metadata": {
            "needs_background": "light"
          },
          "output_type": "display_data"
        }
      ],
      "source": [
        "#outliers \n",
        "plt.boxplot(audi['hwy'])\n",
        "plt.title(\"Consumo de combustível - Audi\")\n",
        "plt.ylabel('Milhas por galão')\n",
        "plt.xticks([])"
      ]
    },
    {
      "cell_type": "code",
      "execution_count": null,
      "metadata": {
        "id": "iW5DXIyKZA30"
      },
      "outputs": [],
      "source": [
        "jeep = df.loc[df['manufacturer'] == 'jeep']"
      ]
    },
    {
      "cell_type": "code",
      "execution_count": null,
      "metadata": {
        "colab": {
          "base_uri": "https://localhost:8080/",
          "height": 206
        },
        "id": "qaidJ-kSY1nk",
        "outputId": "56fb86f6-f947-40f8-f305-9a9d78b8de6e"
      },
      "outputs": [
        {
          "data": {
            "text/html": [
              "\n",
              "  <div id=\"df-6f927fbe-d80b-4941-9933-266983f326ff\">\n",
              "    <div class=\"colab-df-container\">\n",
              "      <div>\n",
              "<style scoped>\n",
              "    .dataframe tbody tr th:only-of-type {\n",
              "        vertical-align: middle;\n",
              "    }\n",
              "\n",
              "    .dataframe tbody tr th {\n",
              "        vertical-align: top;\n",
              "    }\n",
              "\n",
              "    .dataframe thead th {\n",
              "        text-align: right;\n",
              "    }\n",
              "</style>\n",
              "<table border=\"1\" class=\"dataframe\">\n",
              "  <thead>\n",
              "    <tr style=\"text-align: right;\">\n",
              "      <th></th>\n",
              "      <th>manufacturer</th>\n",
              "      <th>model</th>\n",
              "      <th>displ</th>\n",
              "      <th>year</th>\n",
              "      <th>cyl</th>\n",
              "      <th>trans</th>\n",
              "      <th>drv</th>\n",
              "      <th>cty</th>\n",
              "      <th>hwy</th>\n",
              "      <th>fl</th>\n",
              "      <th>class</th>\n",
              "    </tr>\n",
              "  </thead>\n",
              "  <tbody>\n",
              "    <tr>\n",
              "      <th>122</th>\n",
              "      <td>jeep</td>\n",
              "      <td>grand cherokee 4wd</td>\n",
              "      <td>3.0</td>\n",
              "      <td>2008</td>\n",
              "      <td>6</td>\n",
              "      <td>auto(l5)</td>\n",
              "      <td>4</td>\n",
              "      <td>17</td>\n",
              "      <td>22</td>\n",
              "      <td>d</td>\n",
              "      <td>suv</td>\n",
              "    </tr>\n",
              "    <tr>\n",
              "      <th>123</th>\n",
              "      <td>jeep</td>\n",
              "      <td>grand cherokee 4wd</td>\n",
              "      <td>3.7</td>\n",
              "      <td>2008</td>\n",
              "      <td>6</td>\n",
              "      <td>auto(l5)</td>\n",
              "      <td>4</td>\n",
              "      <td>15</td>\n",
              "      <td>19</td>\n",
              "      <td>r</td>\n",
              "      <td>suv</td>\n",
              "    </tr>\n",
              "    <tr>\n",
              "      <th>124</th>\n",
              "      <td>jeep</td>\n",
              "      <td>grand cherokee 4wd</td>\n",
              "      <td>4.0</td>\n",
              "      <td>1999</td>\n",
              "      <td>6</td>\n",
              "      <td>auto(l4)</td>\n",
              "      <td>4</td>\n",
              "      <td>15</td>\n",
              "      <td>20</td>\n",
              "      <td>r</td>\n",
              "      <td>suv</td>\n",
              "    </tr>\n",
              "    <tr>\n",
              "      <th>125</th>\n",
              "      <td>jeep</td>\n",
              "      <td>grand cherokee 4wd</td>\n",
              "      <td>4.7</td>\n",
              "      <td>1999</td>\n",
              "      <td>8</td>\n",
              "      <td>auto(l4)</td>\n",
              "      <td>4</td>\n",
              "      <td>14</td>\n",
              "      <td>17</td>\n",
              "      <td>r</td>\n",
              "      <td>suv</td>\n",
              "    </tr>\n",
              "    <tr>\n",
              "      <th>126</th>\n",
              "      <td>jeep</td>\n",
              "      <td>grand cherokee 4wd</td>\n",
              "      <td>4.7</td>\n",
              "      <td>2008</td>\n",
              "      <td>8</td>\n",
              "      <td>auto(l5)</td>\n",
              "      <td>4</td>\n",
              "      <td>9</td>\n",
              "      <td>12</td>\n",
              "      <td>e</td>\n",
              "      <td>suv</td>\n",
              "    </tr>\n",
              "  </tbody>\n",
              "</table>\n",
              "</div>\n",
              "      <button class=\"colab-df-convert\" onclick=\"convertToInteractive('df-6f927fbe-d80b-4941-9933-266983f326ff')\"\n",
              "              title=\"Convert this dataframe to an interactive table.\"\n",
              "              style=\"display:none;\">\n",
              "        \n",
              "  <svg xmlns=\"http://www.w3.org/2000/svg\" height=\"24px\"viewBox=\"0 0 24 24\"\n",
              "       width=\"24px\">\n",
              "    <path d=\"M0 0h24v24H0V0z\" fill=\"none\"/>\n",
              "    <path d=\"M18.56 5.44l.94 2.06.94-2.06 2.06-.94-2.06-.94-.94-2.06-.94 2.06-2.06.94zm-11 1L8.5 8.5l.94-2.06 2.06-.94-2.06-.94L8.5 2.5l-.94 2.06-2.06.94zm10 10l.94 2.06.94-2.06 2.06-.94-2.06-.94-.94-2.06-.94 2.06-2.06.94z\"/><path d=\"M17.41 7.96l-1.37-1.37c-.4-.4-.92-.59-1.43-.59-.52 0-1.04.2-1.43.59L10.3 9.45l-7.72 7.72c-.78.78-.78 2.05 0 2.83L4 21.41c.39.39.9.59 1.41.59.51 0 1.02-.2 1.41-.59l7.78-7.78 2.81-2.81c.8-.78.8-2.07 0-2.86zM5.41 20L4 18.59l7.72-7.72 1.47 1.35L5.41 20z\"/>\n",
              "  </svg>\n",
              "      </button>\n",
              "      \n",
              "  <style>\n",
              "    .colab-df-container {\n",
              "      display:flex;\n",
              "      flex-wrap:wrap;\n",
              "      gap: 12px;\n",
              "    }\n",
              "\n",
              "    .colab-df-convert {\n",
              "      background-color: #E8F0FE;\n",
              "      border: none;\n",
              "      border-radius: 50%;\n",
              "      cursor: pointer;\n",
              "      display: none;\n",
              "      fill: #1967D2;\n",
              "      height: 32px;\n",
              "      padding: 0 0 0 0;\n",
              "      width: 32px;\n",
              "    }\n",
              "\n",
              "    .colab-df-convert:hover {\n",
              "      background-color: #E2EBFA;\n",
              "      box-shadow: 0px 1px 2px rgba(60, 64, 67, 0.3), 0px 1px 3px 1px rgba(60, 64, 67, 0.15);\n",
              "      fill: #174EA6;\n",
              "    }\n",
              "\n",
              "    [theme=dark] .colab-df-convert {\n",
              "      background-color: #3B4455;\n",
              "      fill: #D2E3FC;\n",
              "    }\n",
              "\n",
              "    [theme=dark] .colab-df-convert:hover {\n",
              "      background-color: #434B5C;\n",
              "      box-shadow: 0px 1px 3px 1px rgba(0, 0, 0, 0.15);\n",
              "      filter: drop-shadow(0px 1px 2px rgba(0, 0, 0, 0.3));\n",
              "      fill: #FFFFFF;\n",
              "    }\n",
              "  </style>\n",
              "\n",
              "      <script>\n",
              "        const buttonEl =\n",
              "          document.querySelector('#df-6f927fbe-d80b-4941-9933-266983f326ff button.colab-df-convert');\n",
              "        buttonEl.style.display =\n",
              "          google.colab.kernel.accessAllowed ? 'block' : 'none';\n",
              "\n",
              "        async function convertToInteractive(key) {\n",
              "          const element = document.querySelector('#df-6f927fbe-d80b-4941-9933-266983f326ff');\n",
              "          const dataTable =\n",
              "            await google.colab.kernel.invokeFunction('convertToInteractive',\n",
              "                                                     [key], {});\n",
              "          if (!dataTable) return;\n",
              "\n",
              "          const docLinkHtml = 'Like what you see? Visit the ' +\n",
              "            '<a target=\"_blank\" href=https://colab.research.google.com/notebooks/data_table.ipynb>data table notebook</a>'\n",
              "            + ' to learn more about interactive tables.';\n",
              "          element.innerHTML = '';\n",
              "          dataTable['output_type'] = 'display_data';\n",
              "          await google.colab.output.renderOutput(dataTable, element);\n",
              "          const docLink = document.createElement('div');\n",
              "          docLink.innerHTML = docLinkHtml;\n",
              "          element.appendChild(docLink);\n",
              "        }\n",
              "      </script>\n",
              "    </div>\n",
              "  </div>\n",
              "  "
            ],
            "text/plain": [
              "    manufacturer               model  displ  year  cyl  ... drv cty  hwy  fl class\n",
              "122         jeep  grand cherokee 4wd    3.0  2008    6  ...   4  17   22   d   suv\n",
              "123         jeep  grand cherokee 4wd    3.7  2008    6  ...   4  15   19   r   suv\n",
              "124         jeep  grand cherokee 4wd    4.0  1999    6  ...   4  15   20   r   suv\n",
              "125         jeep  grand cherokee 4wd    4.7  1999    8  ...   4  14   17   r   suv\n",
              "126         jeep  grand cherokee 4wd    4.7  2008    8  ...   4   9   12   e   suv\n",
              "\n",
              "[5 rows x 11 columns]"
            ]
          },
          "execution_count": 25,
          "metadata": {},
          "output_type": "execute_result"
        }
      ],
      "source": [
        "jeep.head()"
      ]
    },
    {
      "cell_type": "code",
      "execution_count": null,
      "metadata": {
        "colab": {
          "base_uri": "https://localhost:8080/",
          "height": 300
        },
        "id": "4v4ZGZaVZoqY",
        "outputId": "aa6af3a1-df01-436f-d184-fa6a0e8016cb"
      },
      "outputs": [
        {
          "data": {
            "text/html": [
              "\n",
              "  <div id=\"df-c4dc666e-c3c6-406d-9e7e-93a8c4c19ee2\">\n",
              "    <div class=\"colab-df-container\">\n",
              "      <div>\n",
              "<style scoped>\n",
              "    .dataframe tbody tr th:only-of-type {\n",
              "        vertical-align: middle;\n",
              "    }\n",
              "\n",
              "    .dataframe tbody tr th {\n",
              "        vertical-align: top;\n",
              "    }\n",
              "\n",
              "    .dataframe thead th {\n",
              "        text-align: right;\n",
              "    }\n",
              "</style>\n",
              "<table border=\"1\" class=\"dataframe\">\n",
              "  <thead>\n",
              "    <tr style=\"text-align: right;\">\n",
              "      <th></th>\n",
              "      <th>displ</th>\n",
              "      <th>year</th>\n",
              "      <th>cyl</th>\n",
              "      <th>cty</th>\n",
              "      <th>hwy</th>\n",
              "    </tr>\n",
              "  </thead>\n",
              "  <tbody>\n",
              "    <tr>\n",
              "      <th>count</th>\n",
              "      <td>8.000000</td>\n",
              "      <td>8.00000</td>\n",
              "      <td>8.000000</td>\n",
              "      <td>8.000000</td>\n",
              "      <td>8.000000</td>\n",
              "    </tr>\n",
              "    <tr>\n",
              "      <th>mean</th>\n",
              "      <td>4.575000</td>\n",
              "      <td>2005.75000</td>\n",
              "      <td>7.250000</td>\n",
              "      <td>13.500000</td>\n",
              "      <td>17.625000</td>\n",
              "    </tr>\n",
              "    <tr>\n",
              "      <th>std</th>\n",
              "      <td>1.015241</td>\n",
              "      <td>4.16619</td>\n",
              "      <td>1.035098</td>\n",
              "      <td>2.507133</td>\n",
              "      <td>3.248626</td>\n",
              "    </tr>\n",
              "    <tr>\n",
              "      <th>min</th>\n",
              "      <td>3.000000</td>\n",
              "      <td>1999.00000</td>\n",
              "      <td>6.000000</td>\n",
              "      <td>9.000000</td>\n",
              "      <td>12.000000</td>\n",
              "    </tr>\n",
              "    <tr>\n",
              "      <th>25%</th>\n",
              "      <td>3.925000</td>\n",
              "      <td>2005.75000</td>\n",
              "      <td>6.000000</td>\n",
              "      <td>12.500000</td>\n",
              "      <td>16.250000</td>\n",
              "    </tr>\n",
              "    <tr>\n",
              "      <th>50%</th>\n",
              "      <td>4.700000</td>\n",
              "      <td>2008.00000</td>\n",
              "      <td>8.000000</td>\n",
              "      <td>14.000000</td>\n",
              "      <td>18.500000</td>\n",
              "    </tr>\n",
              "    <tr>\n",
              "      <th>75%</th>\n",
              "      <td>4.950000</td>\n",
              "      <td>2008.00000</td>\n",
              "      <td>8.000000</td>\n",
              "      <td>15.000000</td>\n",
              "      <td>19.250000</td>\n",
              "    </tr>\n",
              "    <tr>\n",
              "      <th>max</th>\n",
              "      <td>6.100000</td>\n",
              "      <td>2008.00000</td>\n",
              "      <td>8.000000</td>\n",
              "      <td>17.000000</td>\n",
              "      <td>22.000000</td>\n",
              "    </tr>\n",
              "  </tbody>\n",
              "</table>\n",
              "</div>\n",
              "      <button class=\"colab-df-convert\" onclick=\"convertToInteractive('df-c4dc666e-c3c6-406d-9e7e-93a8c4c19ee2')\"\n",
              "              title=\"Convert this dataframe to an interactive table.\"\n",
              "              style=\"display:none;\">\n",
              "        \n",
              "  <svg xmlns=\"http://www.w3.org/2000/svg\" height=\"24px\"viewBox=\"0 0 24 24\"\n",
              "       width=\"24px\">\n",
              "    <path d=\"M0 0h24v24H0V0z\" fill=\"none\"/>\n",
              "    <path d=\"M18.56 5.44l.94 2.06.94-2.06 2.06-.94-2.06-.94-.94-2.06-.94 2.06-2.06.94zm-11 1L8.5 8.5l.94-2.06 2.06-.94-2.06-.94L8.5 2.5l-.94 2.06-2.06.94zm10 10l.94 2.06.94-2.06 2.06-.94-2.06-.94-.94-2.06-.94 2.06-2.06.94z\"/><path d=\"M17.41 7.96l-1.37-1.37c-.4-.4-.92-.59-1.43-.59-.52 0-1.04.2-1.43.59L10.3 9.45l-7.72 7.72c-.78.78-.78 2.05 0 2.83L4 21.41c.39.39.9.59 1.41.59.51 0 1.02-.2 1.41-.59l7.78-7.78 2.81-2.81c.8-.78.8-2.07 0-2.86zM5.41 20L4 18.59l7.72-7.72 1.47 1.35L5.41 20z\"/>\n",
              "  </svg>\n",
              "      </button>\n",
              "      \n",
              "  <style>\n",
              "    .colab-df-container {\n",
              "      display:flex;\n",
              "      flex-wrap:wrap;\n",
              "      gap: 12px;\n",
              "    }\n",
              "\n",
              "    .colab-df-convert {\n",
              "      background-color: #E8F0FE;\n",
              "      border: none;\n",
              "      border-radius: 50%;\n",
              "      cursor: pointer;\n",
              "      display: none;\n",
              "      fill: #1967D2;\n",
              "      height: 32px;\n",
              "      padding: 0 0 0 0;\n",
              "      width: 32px;\n",
              "    }\n",
              "\n",
              "    .colab-df-convert:hover {\n",
              "      background-color: #E2EBFA;\n",
              "      box-shadow: 0px 1px 2px rgba(60, 64, 67, 0.3), 0px 1px 3px 1px rgba(60, 64, 67, 0.15);\n",
              "      fill: #174EA6;\n",
              "    }\n",
              "\n",
              "    [theme=dark] .colab-df-convert {\n",
              "      background-color: #3B4455;\n",
              "      fill: #D2E3FC;\n",
              "    }\n",
              "\n",
              "    [theme=dark] .colab-df-convert:hover {\n",
              "      background-color: #434B5C;\n",
              "      box-shadow: 0px 1px 3px 1px rgba(0, 0, 0, 0.15);\n",
              "      filter: drop-shadow(0px 1px 2px rgba(0, 0, 0, 0.3));\n",
              "      fill: #FFFFFF;\n",
              "    }\n",
              "  </style>\n",
              "\n",
              "      <script>\n",
              "        const buttonEl =\n",
              "          document.querySelector('#df-c4dc666e-c3c6-406d-9e7e-93a8c4c19ee2 button.colab-df-convert');\n",
              "        buttonEl.style.display =\n",
              "          google.colab.kernel.accessAllowed ? 'block' : 'none';\n",
              "\n",
              "        async function convertToInteractive(key) {\n",
              "          const element = document.querySelector('#df-c4dc666e-c3c6-406d-9e7e-93a8c4c19ee2');\n",
              "          const dataTable =\n",
              "            await google.colab.kernel.invokeFunction('convertToInteractive',\n",
              "                                                     [key], {});\n",
              "          if (!dataTable) return;\n",
              "\n",
              "          const docLinkHtml = 'Like what you see? Visit the ' +\n",
              "            '<a target=\"_blank\" href=https://colab.research.google.com/notebooks/data_table.ipynb>data table notebook</a>'\n",
              "            + ' to learn more about interactive tables.';\n",
              "          element.innerHTML = '';\n",
              "          dataTable['output_type'] = 'display_data';\n",
              "          await google.colab.output.renderOutput(dataTable, element);\n",
              "          const docLink = document.createElement('div');\n",
              "          docLink.innerHTML = docLinkHtml;\n",
              "          element.appendChild(docLink);\n",
              "        }\n",
              "      </script>\n",
              "    </div>\n",
              "  </div>\n",
              "  "
            ],
            "text/plain": [
              "          displ        year       cyl        cty        hwy\n",
              "count  8.000000     8.00000  8.000000   8.000000   8.000000\n",
              "mean   4.575000  2005.75000  7.250000  13.500000  17.625000\n",
              "std    1.015241     4.16619  1.035098   2.507133   3.248626\n",
              "min    3.000000  1999.00000  6.000000   9.000000  12.000000\n",
              "25%    3.925000  2005.75000  6.000000  12.500000  16.250000\n",
              "50%    4.700000  2008.00000  8.000000  14.000000  18.500000\n",
              "75%    4.950000  2008.00000  8.000000  15.000000  19.250000\n",
              "max    6.100000  2008.00000  8.000000  17.000000  22.000000"
            ]
          },
          "execution_count": 26,
          "metadata": {},
          "output_type": "execute_result"
        }
      ],
      "source": [
        "jeep.describe()"
      ]
    },
    {
      "cell_type": "code",
      "execution_count": null,
      "metadata": {
        "colab": {
          "base_uri": "https://localhost:8080/"
        },
        "id": "Q3pdOVCRZOaS",
        "outputId": "51703f3f-f638-49e2-c4fc-1bba105734f4"
      },
      "outputs": [
        {
          "data": {
            "text/plain": [
              "17.625"
            ]
          },
          "execution_count": 27,
          "metadata": {},
          "output_type": "execute_result"
        }
      ],
      "source": [
        "#consumo médio, amplitude e o desvio padrão deste consumo\n",
        "media_jeep = jeep['hwy'].mean()\n",
        "media_jeep"
      ]
    },
    {
      "cell_type": "code",
      "execution_count": null,
      "metadata": {
        "colab": {
          "base_uri": "https://localhost:8080/"
        },
        "id": "eT08ba0uZZrT",
        "outputId": "a116062c-c1ba-46b7-fbda-395fb187ad38"
      },
      "outputs": [
        {
          "data": {
            "text/plain": [
              "10"
            ]
          },
          "execution_count": 28,
          "metadata": {},
          "output_type": "execute_result"
        }
      ],
      "source": [
        "amplitude_jeep = jeep['hwy'].max() - jeep['hwy'].min()\n",
        "amplitude_jeep"
      ]
    },
    {
      "cell_type": "code",
      "execution_count": null,
      "metadata": {
        "colab": {
          "base_uri": "https://localhost:8080/"
        },
        "id": "_1NmDlOTZibG",
        "outputId": "a54ada53-1b6d-4c8b-8058-1614c107aed0"
      },
      "outputs": [
        {
          "data": {
            "text/plain": [
              "3.2486260832190936"
            ]
          },
          "execution_count": 29,
          "metadata": {},
          "output_type": "execute_result"
        }
      ],
      "source": [
        "desvio_jeep = jeep['hwy'].std()\n",
        "desvio_jeep"
      ]
    },
    {
      "cell_type": "code",
      "execution_count": null,
      "metadata": {
        "colab": {
          "base_uri": "https://localhost:8080/",
          "height": 285
        },
        "id": "mFMKXsMVZnnr",
        "outputId": "4b6a5d2a-3c48-4f03-dda9-3235b16c1ee8"
      },
      "outputs": [
        {
          "data": {
            "text/plain": [
              "([], <a list of 0 Text major ticklabel objects>)"
            ]
          },
          "execution_count": 30,
          "metadata": {},
          "output_type": "execute_result"
        },
        {
          "data": {
            "image/png": "[encoded data removed]",
            "text/plain": [
              "<Figure size 432x288 with 1 Axes>"
            ]
          },
          "metadata": {
            "needs_background": "light"
          },
          "output_type": "display_data"
        }
      ],
      "source": [
        "plt.boxplot(jeep['hwy'])\n",
        "plt.title('Consumo de combustível - jeep')\n",
        "plt.ylabel('Milhas por galão')\n",
        "plt.xticks([])"
      ]
    },
    {
      "cell_type": "markdown",
      "metadata": {
        "id": "IMGDiTcHILiP"
      },
      "source": [
        "# Correlação entre variáveis\n",
        "\n",
        "Relação existente entre as variáveis"
      ]
    },
    {
      "cell_type": "code",
      "execution_count": null,
      "metadata": {
        "colab": {
          "base_uri": "https://localhost:8080/",
          "height": 206
        },
        "id": "c4ButnTJIOSi",
        "outputId": "643fc595-0051-4cb1-e2eb-9adfe89334af"
      },
      "outputs": [
        {
          "data": {
            "text/html": [
              "<style  type=\"text/css\" >\n",
              "#T_5fa2c744_792b_11ec_bf04_0242ac1c0002row0_col0,#T_5fa2c744_792b_11ec_bf04_0242ac1c0002row1_col1,#T_5fa2c744_792b_11ec_bf04_0242ac1c0002row2_col2,#T_5fa2c744_792b_11ec_bf04_0242ac1c0002row3_col3,#T_5fa2c744_792b_11ec_bf04_0242ac1c0002row4_col4{\n",
              "            background-color:  #3f007d;\n",
              "            color:  #f1f1f1;\n",
              "        }#T_5fa2c744_792b_11ec_bf04_0242ac1c0002row0_col1{\n",
              "            background-color:  #e6e5f1;\n",
              "            color:  #000000;\n",
              "        }#T_5fa2c744_792b_11ec_bf04_0242ac1c0002row0_col2,#T_5fa2c744_792b_11ec_bf04_0242ac1c0002row2_col0{\n",
              "            background-color:  #450b82;\n",
              "            color:  #f1f1f1;\n",
              "        }#T_5fa2c744_792b_11ec_bf04_0242ac1c0002row0_col3,#T_5fa2c744_792b_11ec_bf04_0242ac1c0002row0_col4,#T_5fa2c744_792b_11ec_bf04_0242ac1c0002row2_col3,#T_5fa2c744_792b_11ec_bf04_0242ac1c0002row2_col4,#T_5fa2c744_792b_11ec_bf04_0242ac1c0002row3_col0,#T_5fa2c744_792b_11ec_bf04_0242ac1c0002row3_col1,#T_5fa2c744_792b_11ec_bf04_0242ac1c0002row3_col2{\n",
              "            background-color:  #fcfbfd;\n",
              "            color:  #000000;\n",
              "        }#T_5fa2c744_792b_11ec_bf04_0242ac1c0002row1_col0{\n",
              "            background-color:  #9894c5;\n",
              "            color:  #000000;\n",
              "        }#T_5fa2c744_792b_11ec_bf04_0242ac1c0002row1_col2{\n",
              "            background-color:  #9b97c6;\n",
              "            color:  #000000;\n",
              "        }#T_5fa2c744_792b_11ec_bf04_0242ac1c0002row1_col3{\n",
              "            background-color:  #b0afd4;\n",
              "            color:  #000000;\n",
              "        }#T_5fa2c744_792b_11ec_bf04_0242ac1c0002row1_col4{\n",
              "            background-color:  #aeacd2;\n",
              "            color:  #000000;\n",
              "        }#T_5fa2c744_792b_11ec_bf04_0242ac1c0002row2_col1{\n",
              "            background-color:  #eae9f3;\n",
              "            color:  #000000;\n",
              "        }#T_5fa2c744_792b_11ec_bf04_0242ac1c0002row3_col4,#T_5fa2c744_792b_11ec_bf04_0242ac1c0002row4_col3{\n",
              "            background-color:  #430780;\n",
              "            color:  #f1f1f1;\n",
              "        }#T_5fa2c744_792b_11ec_bf04_0242ac1c0002row4_col0{\n",
              "            background-color:  #faf9fc;\n",
              "            color:  #000000;\n",
              "        }#T_5fa2c744_792b_11ec_bf04_0242ac1c0002row4_col1{\n",
              "            background-color:  #f8f7fb;\n",
              "            color:  #000000;\n",
              "        }#T_5fa2c744_792b_11ec_bf04_0242ac1c0002row4_col2{\n",
              "            background-color:  #faf8fb;\n",
              "            color:  #000000;\n",
              "        }</style><table id=\"T_5fa2c744_792b_11ec_bf04_0242ac1c0002\" class=\"dataframe\"><thead>    <tr>        <th class=\"blank level0\" ></th>        <th class=\"col_heading level0 col0\" >displ</th>        <th class=\"col_heading level0 col1\" >year</th>        <th class=\"col_heading level0 col2\" >cyl</th>        <th class=\"col_heading level0 col3\" >cty</th>        <th class=\"col_heading level0 col4\" >hwy</th>    </tr></thead><tbody>\n",
              "                <tr>\n",
              "                        <th id=\"T_5fa2c744_792b_11ec_bf04_0242ac1c0002level0_row0\" class=\"row_heading level0 row0\" >displ</th>\n",
              "                        <td id=\"T_5fa2c744_792b_11ec_bf04_0242ac1c0002row0_col0\" class=\"data row0 col0\" >1.000000</td>\n",
              "                        <td id=\"T_5fa2c744_792b_11ec_bf04_0242ac1c0002row0_col1\" class=\"data row0 col1\" >0.147843</td>\n",
              "                        <td id=\"T_5fa2c744_792b_11ec_bf04_0242ac1c0002row0_col2\" class=\"data row0 col2\" >0.930227</td>\n",
              "                        <td id=\"T_5fa2c744_792b_11ec_bf04_0242ac1c0002row0_col3\" class=\"data row0 col3\" >-0.798524</td>\n",
              "                        <td id=\"T_5fa2c744_792b_11ec_bf04_0242ac1c0002row0_col4\" class=\"data row0 col4\" >-0.766020</td>\n",
              "            </tr>\n",
              "            <tr>\n",
              "                        <th id=\"T_5fa2c744_792b_11ec_bf04_0242ac1c0002level0_row1\" class=\"row_heading level0 row1\" >year</th>\n",
              "                        <td id=\"T_5fa2c744_792b_11ec_bf04_0242ac1c0002row1_col0\" class=\"data row1 col0\" >0.147843</td>\n",
              "                        <td id=\"T_5fa2c744_792b_11ec_bf04_0242ac1c0002row1_col1\" class=\"data row1 col1\" >1.000000</td>\n",
              "                        <td id=\"T_5fa2c744_792b_11ec_bf04_0242ac1c0002row1_col2\" class=\"data row1 col2\" >0.122245</td>\n",
              "                        <td id=\"T_5fa2c744_792b_11ec_bf04_0242ac1c0002row1_col3\" class=\"data row1 col3\" >-0.037232</td>\n",
              "                        <td id=\"T_5fa2c744_792b_11ec_bf04_0242ac1c0002row1_col4\" class=\"data row1 col4\" >0.002158</td>\n",
              "            </tr>\n",
              "            <tr>\n",
              "                        <th id=\"T_5fa2c744_792b_11ec_bf04_0242ac1c0002level0_row2\" class=\"row_heading level0 row2\" >cyl</th>\n",
              "                        <td id=\"T_5fa2c744_792b_11ec_bf04_0242ac1c0002row2_col0\" class=\"data row2 col0\" >0.930227</td>\n",
              "                        <td id=\"T_5fa2c744_792b_11ec_bf04_0242ac1c0002row2_col1\" class=\"data row2 col1\" >0.122245</td>\n",
              "                        <td id=\"T_5fa2c744_792b_11ec_bf04_0242ac1c0002row2_col2\" class=\"data row2 col2\" >1.000000</td>\n",
              "                        <td id=\"T_5fa2c744_792b_11ec_bf04_0242ac1c0002row2_col3\" class=\"data row2 col3\" >-0.805771</td>\n",
              "                        <td id=\"T_5fa2c744_792b_11ec_bf04_0242ac1c0002row2_col4\" class=\"data row2 col4\" >-0.761912</td>\n",
              "            </tr>\n",
              "            <tr>\n",
              "                        <th id=\"T_5fa2c744_792b_11ec_bf04_0242ac1c0002level0_row3\" class=\"row_heading level0 row3\" >cty</th>\n",
              "                        <td id=\"T_5fa2c744_792b_11ec_bf04_0242ac1c0002row3_col0\" class=\"data row3 col0\" >-0.798524</td>\n",
              "                        <td id=\"T_5fa2c744_792b_11ec_bf04_0242ac1c0002row3_col1\" class=\"data row3 col1\" >-0.037232</td>\n",
              "                        <td id=\"T_5fa2c744_792b_11ec_bf04_0242ac1c0002row3_col2\" class=\"data row3 col2\" >-0.805771</td>\n",
              "                        <td id=\"T_5fa2c744_792b_11ec_bf04_0242ac1c0002row3_col3\" class=\"data row3 col3\" >1.000000</td>\n",
              "                        <td id=\"T_5fa2c744_792b_11ec_bf04_0242ac1c0002row3_col4\" class=\"data row3 col4\" >0.955916</td>\n",
              "            </tr>\n",
              "            <tr>\n",
              "                        <th id=\"T_5fa2c744_792b_11ec_bf04_0242ac1c0002level0_row4\" class=\"row_heading level0 row4\" >hwy</th>\n",
              "                        <td id=\"T_5fa2c744_792b_11ec_bf04_0242ac1c0002row4_col0\" class=\"data row4 col0\" >-0.766020</td>\n",
              "                        <td id=\"T_5fa2c744_792b_11ec_bf04_0242ac1c0002row4_col1\" class=\"data row4 col1\" >0.002158</td>\n",
              "                        <td id=\"T_5fa2c744_792b_11ec_bf04_0242ac1c0002row4_col2\" class=\"data row4 col2\" >-0.761912</td>\n",
              "                        <td id=\"T_5fa2c744_792b_11ec_bf04_0242ac1c0002row4_col3\" class=\"data row4 col3\" >0.955916</td>\n",
              "                        <td id=\"T_5fa2c744_792b_11ec_bf04_0242ac1c0002row4_col4\" class=\"data row4 col4\" >1.000000</td>\n",
              "            </tr>\n",
              "    </tbody></table>"
            ],
            "text/plain": [
              "<pandas.io.formats.style.Styler at 0x7f209f46df10>"
            ]
          },
          "execution_count": 31,
          "metadata": {},
          "output_type": "execute_result"
        }
      ],
      "source": [
        "df.corr().style.background_gradient('Purples')\n",
        "# a medida que o valor de uma variável cresce, o outro valor cresce = correlação positiva \n",
        "# a medida que o valor de uma variável cresce, o outro valor diminui = correlação negativa"
      ]
    },
    {
      "cell_type": "code",
      "execution_count": null,
      "metadata": {
        "colab": {
          "base_uri": "https://localhost:8080/",
          "height": 286
        },
        "id": "JrXb5dU1aFHM",
        "outputId": "17fc7a12-7b04-4419-9b06-bc588dc2d3fe"
      },
      "outputs": [
        {
          "data": {
            "text/plain": [
              "<matplotlib.axes._subplots.AxesSubplot at 0x7f209f166ed0>"
            ]
          },
          "execution_count": 32,
          "metadata": {},
          "output_type": "execute_result"
        },
        {
          "data": {
            "image/png": "[encoded data removed]",
            "text/plain": [
              "<Figure size 432x288 with 2 Axes>"
            ]
          },
          "metadata": {
            "needs_background": "light"
          },
          "output_type": "display_data"
        }
      ],
      "source": [
        "sns.heatmap(df.corr(), cmap='Purples', vmin=-1, vmax=1)"
      ]
    },
    {
      "cell_type": "code",
      "execution_count": null,
      "metadata": {
        "colab": {
          "base_uri": "https://localhost:8080/"
        },
        "id": "ukUKvjaQaclT",
        "outputId": "f67d4e11-a313-4e4d-a716-4946a42333a3"
      },
      "outputs": [
        {
          "data": {
            "text/plain": [
              "array([[ 1.        , -0.76602002],\n",
              "       [-0.76602002,  1.        ]])"
            ]
          },
          "execution_count": 33,
          "metadata": {},
          "output_type": "execute_result"
        }
      ],
      "source": [
        "#Correlação entre consumo e tamanho do motor\n",
        "cor = np.corrcoef(df['hwy'], df['displ'])\n",
        "cor"
      ]
    },
    {
      "cell_type": "code",
      "execution_count": null,
      "metadata": {
        "colab": {
          "base_uri": "https://localhost:8080/"
        },
        "id": "9ON5w0z3ankl",
        "outputId": "256f71a4-4820-4354-8079-2976eef8cfbb"
      },
      "outputs": [
        {
          "data": {
            "text/plain": [
              "-0.7660200208864681"
            ]
          },
          "execution_count": 34,
          "metadata": {},
          "output_type": "execute_result"
        }
      ],
      "source": [
        "df['hwy'].corr(df['displ'])"
      ]
    },
    {
      "cell_type": "code",
      "execution_count": null,
      "metadata": {
        "colab": {
          "base_uri": "https://localhost:8080/",
          "height": 312
        },
        "id": "YDo_Ho_9c3Fd",
        "outputId": "2e8e21a1-c167-4570-b68d-c5d49ca8ed16"
      },
      "outputs": [
        {
          "data": {
            "text/plain": [
              "Text(0.5, 0, 'Capacidade do motor')"
            ]
          },
          "execution_count": 35,
          "metadata": {},
          "output_type": "execute_result"
        },
        {
          "data": {
            "image/png": "[encoded data removed]",
            "text/plain": [
              "<Figure size 432x288 with 1 Axes>"
            ]
          },
          "metadata": {
            "needs_background": "light"
          },
          "output_type": "display_data"
        }
      ],
      "source": [
        "plt.scatter(df['displ'], df['hwy'], s=10)\n",
        "plt.title('Analise de eficiência no gasto de combustível')\n",
        "plt.ylabel('Milhas por galão')\n",
        "plt.xlabel('Capacidade do motor')\n",
        "#correlação negativa"
      ]
    },
    {
      "cell_type": "markdown",
      "metadata": {
        "id": "fJIzLJnfdbsJ"
      },
      "source": [
        "# Modelo de regressão linear"
      ]
    },
    {
      "cell_type": "code",
      "execution_count": null,
      "metadata": {
        "colab": {
          "base_uri": "https://localhost:8080/",
          "height": 197
        },
        "id": "xu0lO_3Odwaq",
        "outputId": "ed737e5c-ab25-4002-8dc0-2065252d3a90"
      },
      "outputs": [
        {
          "ename": "NameError",
          "evalue": "ignored",
          "output_type": "error",
          "traceback": [
            "\u001b[0;31m---------------------------------------------------------------------------\u001b[0m",
            "\u001b[0;31mNameError\u001b[0m                                 Traceback (most recent call last)",
            "\u001b[0;32m<ipython-input-1-75ac4ccf5738>\u001b[0m in \u001b[0;36m<module>\u001b[0;34m()\u001b[0m\n\u001b[1;32m      1\u001b[0m \u001b[0;31m#dados = dados analisados na correlação\u001b[0m\u001b[0;34m\u001b[0m\u001b[0;34m\u001b[0m\u001b[0;34m\u001b[0m\u001b[0m\n\u001b[0;32m----> 2\u001b[0;31m \u001b[0mX\u001b[0m \u001b[0;34m=\u001b[0m \u001b[0mnp\u001b[0m\u001b[0;34m.\u001b[0m\u001b[0marray\u001b[0m\u001b[0;34m(\u001b[0m\u001b[0mdf\u001b[0m\u001b[0;34m[\u001b[0m\u001b[0;34m'displ'\u001b[0m\u001b[0;34m]\u001b[0m\u001b[0;34m)\u001b[0m\u001b[0;34m.\u001b[0m\u001b[0mreshape\u001b[0m\u001b[0;34m(\u001b[0m\u001b[0;34m-\u001b[0m\u001b[0;36m1\u001b[0m\u001b[0;34m,\u001b[0m \u001b[0;36m1\u001b[0m\u001b[0;34m)\u001b[0m\u001b[0;34m\u001b[0m\u001b[0;34m\u001b[0m\u001b[0m\n\u001b[0m\u001b[1;32m      3\u001b[0m \u001b[0my\u001b[0m \u001b[0;34m=\u001b[0m \u001b[0mnp\u001b[0m\u001b[0;34m.\u001b[0m\u001b[0marray\u001b[0m\u001b[0;34m(\u001b[0m\u001b[0mdf\u001b[0m\u001b[0;34m[\u001b[0m\u001b[0;34m'hwy'\u001b[0m\u001b[0;34m]\u001b[0m\u001b[0;34m)\u001b[0m\u001b[0;34m.\u001b[0m\u001b[0mreshape\u001b[0m\u001b[0;34m(\u001b[0m\u001b[0;34m-\u001b[0m\u001b[0;36m1\u001b[0m\u001b[0;34m,\u001b[0m \u001b[0;36m1\u001b[0m\u001b[0;34m)\u001b[0m \u001b[0;31m#quero prever meu consumo\u001b[0m\u001b[0;34m\u001b[0m\u001b[0;34m\u001b[0m\u001b[0m\n",
            "\u001b[0;31mNameError\u001b[0m: name 'np' is not defined"
          ]
        }
      ],
      "source": [
        "#dados = dados analisados na correlação \n",
        "X = np.array(df['displ']).reshape(-1, 1)\n",
        "y = np.array(df['hwy']).reshape(-1, 1) #quero prever meu consumo\n"
      ]
    },
    {
      "cell_type": "code",
      "execution_count": null,
      "metadata": {
        "id": "bsqD657rdS6B"
      },
      "outputs": [],
      "source": [
        "X_train, X_valid, y_train, y_valid = train_test_split(X, y, test_size=0.2, random_state=31)"
      ]
    },
    {
      "cell_type": "code",
      "execution_count": null,
      "metadata": {
        "id": "HYuyAQZFeDAj"
      },
      "outputs": [],
      "source": [
        "model = LinearRegression()"
      ]
    },
    {
      "cell_type": "code",
      "execution_count": null,
      "metadata": {
        "id": "WHUOycjSeIk-"
      },
      "outputs": [],
      "source": [
        "model.fit(X_train, y_train)"
      ]
    },
    {
      "cell_type": "code",
      "execution_count": null,
      "metadata": {
        "id": "KCuV7oDmeTNc"
      },
      "outputs": [],
      "source": [
        "#visualização da regressão linear = interseção e inclinação da reta\n",
        "inclinacao = model.coef_\n",
        "intersecao = model.intercept_"
      ]
    },
    {
      "cell_type": "code",
      "execution_count": null,
      "metadata": {
        "id": "DraHeSgCeoO_"
      },
      "outputs": [],
      "source": [
        "plt.figure(figsize=(8,5))\n",
        "plt.scatter(X_valid, y_valid, s=10) #dispersão\n",
        "plt.plot(X_valid, (X_valid * inclinacao + intersecao), color='g') #reta (X + coordenadas lidas para criar a reta)\n",
        "#reta de ajustamento = inclinação da reta e em que ponto ela faz a interseção com o eixo\n",
        "plt.legend(['Reta de ajustamento', 'Dispersão dos dados'])\n",
        "plt.ylabel('Milhas por galão')\n",
        "plt.xlabel('Capacidade do motor')\n"
      ]
    },
    {
      "cell_type": "code",
      "execution_count": null,
      "metadata": {
        "id": "JMukxuQTfE9K"
      },
      "outputs": [],
      "source": [
        "predicts = model.predict(X_valid)"
      ]
    },
    {
      "cell_type": "code",
      "execution_count": null,
      "metadata": {
        "id": "OUwVvQJFfZ1K"
      },
      "outputs": [],
      "source": [
        "#Carro com motor 3.0\n",
        "teste = np.array([3.0]).reshape(-1,1)\n",
        "model.predict(teste)"
      ]
    },
    {
      "cell_type": "code",
      "execution_count": null,
      "metadata": {
        "id": "05ab4GWUfKYr"
      },
      "outputs": [],
      "source": [
        "r2 = model.score(X_valid, y_valid)\n",
        "print(f'R²:  {r2:.3f}')"
      ]
    },
    {
      "cell_type": "code",
      "execution_count": null,
      "metadata": {
        "id": "39_iv1s4ioaY"
      },
      "outputs": [],
      "source": [
        " #modelo de regressão linear usando a quantidade de cilindros e o consumo de combustível na cidade.\n",
        " #cyl + hwy"
      ]
    },
    {
      "cell_type": "code",
      "execution_count": null,
      "metadata": {
        "id": "ow7eNGSui4d1"
      },
      "outputs": [],
      "source": [
        "X = np.array(df['cyl']).reshape(-1, 1)\n",
        "y = np.array(df['hwy']).reshape(-1, 1)"
      ]
    },
    {
      "cell_type": "code",
      "execution_count": null,
      "metadata": {
        "id": "4f83PDjrjLuh"
      },
      "outputs": [],
      "source": [
        "X_train, X_valid, y_train, y_valid = train_test_split(X, y, test_size=0.2, random_state=31)"
      ]
    },
    {
      "cell_type": "code",
      "execution_count": null,
      "metadata": {
        "id": "mdMGo5ZYjPxw"
      },
      "outputs": [],
      "source": [
        "model.fit(X_train, y_train)"
      ]
    },
    {
      "cell_type": "code",
      "execution_count": null,
      "metadata": {
        "id": "d7NCKAs9jX9E"
      },
      "outputs": [],
      "source": [
        "predicts = model.predict(X_valid)"
      ]
    },
    {
      "cell_type": "code",
      "execution_count": null,
      "metadata": {
        "id": "smLD4VbJjbFG"
      },
      "outputs": [],
      "source": [
        "intersecao = model.intercept_\n",
        "inclinacao = model.coef_"
      ]
    },
    {
      "cell_type": "code",
      "execution_count": null,
      "metadata": {
        "id": "cczd_BebjlTg"
      },
      "outputs": [],
      "source": [
        "plt.figure(figsize=(8,5))\n",
        "plt.scatter(X_valid, y_valid, s=10) \n",
        "plt.plot(X_valid, (X_valid * inclinacao + intersecao), color='g')\n",
        "plt.legend(['Reta de ajustamento', 'Dispersão dos dados'])\n",
        "plt.ylabel('Milhas por galão')\n",
        "plt.xlabel('Quantidade de cilindros')"
      ]
    },
    {
      "cell_type": "code",
      "execution_count": null,
      "metadata": {
        "id": "MJy9ecbJjwUn"
      },
      "outputs": [],
      "source": [
        "#Carro com motor 6 cilindros\n",
        "teste = np.array([6]).reshape(-1,1)\n",
        "model.predict(teste)"
      ]
    },
    {
      "cell_type": "code",
      "execution_count": null,
      "metadata": {
        "id": "LYAEbwo9kJWI"
      },
      "outputs": [],
      "source": [
        "r2 = model.score(X_valid, y_valid)\n",
        "print(f'R²:  {r2:.3f}')"
      ]
    }
  ],
  "metadata": {
    "colab": {
      "name": "Projeto Estatística.ipynb",
      "provenance": []
    },
    "kernelspec": {
      "display_name": "Python 3",
      "name": "python3"
    },
    "language_info": {
      "name": "python"
    }
  },
  "nbformat": 4,
  "nbformat_minor": 0
}
